{
 "cells": [
  {
   "cell_type": "code",
   "execution_count": 5,
   "id": "fd0fb219-6b41-4c72-8c71-cfab6477b220",
   "metadata": {},
   "outputs": [],
   "source": [
    "import numpy as np"
   ]
  },
  {
   "cell_type": "code",
   "execution_count": 10,
   "id": "0d5955ca-ddbb-4435-9d43-c36f22ce9cb4",
   "metadata": {},
   "outputs": [
    {
     "data": {
      "text/plain": [
       "{1981: 0.0,\n",
       " 1982: 0.230188,\n",
       " 1983: 0.498068,\n",
       " 1984: 0.62663,\n",
       " 1985: 0.669936,\n",
       " 1986: 0.686082,\n",
       " 1987: 0.693081,\n",
       " 1988: 0.701914,\n",
       " 1989: 0.71019,\n",
       " 1990: 0.712408}"
      ]
     },
     "execution_count": 10,
     "metadata": {},
     "output_type": "execute_result"
    }
   ],
   "source": [
    "shares = [0.0, 0.230188, 0.498068, 0.62663, 0.669936, 0.686082, 0.693081, 0.701914, 0.71019, 0.712408]\n",
    "years = np.arange(1981, 1991, 1)\n",
    "\n",
    "secondary_ratio_dict = {}\n",
    "zipped = zip(years, shares)\n",
    "\n",
    "for step in zipped:\n",
    "    secondary_ratio_dict[step[0]] = step[1]\n",
    "\n",
    "secondary_ratio_dict"
   ]
  },
  {
   "cell_type": "code",
   "execution_count": 11,
   "id": "f02ebe3a-994a-4529-8bf6-da85ec669d52",
   "metadata": {},
   "outputs": [],
   "source": [
    "def update_material_composition(steel_secondary_share):\n",
    "    materials = {}\n",
    "    steel_primary_share = 1 - steel_secondary_share\n",
    "    materials['slt1'] = 0.546246 * steel_primary_share\n",
    "    materials['slt2'] = 0.546246 * steel_secondary_share\n",
    "    return materials"
   ]
  },
  {
   "cell_type": "code",
   "execution_count": 17,
   "id": "53510c8b-7c47-498d-bb7a-e4456310d01c",
   "metadata": {},
   "outputs": [
    {
     "name": "stdout",
     "output_type": "stream",
     "text": [
      "{'slt1': 0.546246, 'slt2': 0.0}\n",
      "{'slt1': 0.420506725752, 'slt2': 0.125739274248}\n",
      "{'slt1': 0.274178347272, 'slt2': 0.272067652728}\n",
      "{'slt1': 0.20395186901999998, 'slt2': 0.34229413098}\n",
      "{'slt1': 0.18029613974400002, 'slt2': 0.365949860256}\n",
      "{'slt1': 0.17147645182800003, 'slt2': 0.374769548172}\n",
      "{'slt1': 0.16765327607400002, 'slt2': 0.37859272392599996}\n",
      "{'slt1': 0.16282828515599998, 'slt2': 0.383417714844}\n",
      "{'slt1': 0.15830755326, 'slt2': 0.38793844674}\n",
      "{'slt1': 0.15709597963199998, 'slt2': 0.389150020368}\n"
     ]
    }
   ],
   "source": [
    "for value in secondary_ratio_dict:\n",
    "    print(update_material_composition(secondary_ratio_dict[value]))"
   ]
  }
 ],
 "metadata": {
  "kernelspec": {
   "display_name": "Python [conda env:bw25]",
   "language": "python",
   "name": "conda-env-bw25-py"
  },
  "language_info": {
   "codemirror_mode": {
    "name": "ipython",
    "version": 3
   },
   "file_extension": ".py",
   "mimetype": "text/x-python",
   "name": "python",
   "nbconvert_exporter": "python",
   "pygments_lexer": "ipython3",
   "version": "3.12.11"
  }
 },
 "nbformat": 4,
 "nbformat_minor": 5
}
