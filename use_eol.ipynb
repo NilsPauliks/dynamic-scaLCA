{
 "cells": [
  {
   "cell_type": "code",
   "execution_count": 65,
   "id": "896dfba6",
   "metadata": {},
   "outputs": [],
   "source": [
    "import bw2data as bd\n",
    "import bw2io as bi\n",
    "from pathlib import Path"
   ]
  },
  {
   "cell_type": "code",
   "execution_count": 66,
   "id": "36ae9a19",
   "metadata": {},
   "outputs": [
    {
     "name": "stdout",
     "output_type": "stream",
     "text": [
      "Restoring project backup archive - this could take a few minutes...\n",
      "Restored project: Linking dMFA & LCA\n",
      "\u001b[2m08:38:06+0000\u001b[0m [\u001b[32m\u001b[1minfo     \u001b[0m] \u001b[1mApplying automatic update: 4.0 database search directories FTS5\u001b[0m\n",
      "\u001b[2m08:38:06+0000\u001b[0m [\u001b[32m\u001b[1minfo     \u001b[0m] \u001b[1mReindexing database ecoinvent-3.10-biosphere\u001b[0m\n",
      "\u001b[2m08:38:06+0000\u001b[0m [\u001b[32m\u001b[1minfo     \u001b[0m] \u001b[1mReindexing database ecoinvent-3.10-cutoff\u001b[0m\n"
     ]
    }
   ],
   "source": [
    "PROJECT_NAME = \"Linking dMFA & LCA\"\n",
    "\n",
    "bi.restore_project_directory(\n",
    "    fp='/etc/data/ecoinvent-3.10-cutoff-bw25.tar.gz',\n",
    "    project_name=PROJECT_NAME,\n",
    "    overwrite_existing=True\n",
    ")\n",
    "bd.projects.set_current(PROJECT_NAME)\n",
    "\n",
    "db=bd.Database('ecoinvent-3.10-cutoff')\n",
    "\n",
    "# Define end-of-life treatment\n",
    "steel_recycling_RER = bd.get_node(name='steel production, electric, chromium steel 18/8', location = 'RER')\n",
    "steel_recycling_RER\n",
    "\n",
    "my_edge = list(steel_recycling_RER.edges())[14]\n",
    "my_edge.delete()\n",
    "\n",
    "#%% PRODUCT NODES\n",
    "scrap_stainless_steel = db.new_node(\n",
    "    code='scrap stainless steel',\n",
    "    name=\"scrap stainless steel\",\n",
    "    unit=\"kg\",\n",
    "    type=bd.labels.product_node_default,\n",
    ")\n",
    "#%% SAVING\n",
    "scrap_stainless_steel.save()\n",
    "\n",
    "#%% CONSUMPTION EDGES\n",
    "steel_recycling_RER.new_edge(\n",
    "    amount=0.551, \n",
    "    type=bd.labels.consumption_edge_default,\n",
    "    input=scrap_stainless_steel\n",
    ").save()"
   ]
  },
  {
   "cell_type": "code",
   "execution_count": 67,
   "id": "69c962ae",
   "metadata": {},
   "outputs": [
    {
     "name": "stdout",
     "output_type": "stream",
     "text": [
      "Restoring project backup archive - this could take a few minutes...\n",
      "Restored project: linking LCA & dMFA_production\n"
     ]
    },
    {
     "data": {
      "text/plain": [
       "'linking LCA & dMFA_production'"
      ]
     },
     "execution_count": 67,
     "metadata": {},
     "output_type": "execute_result"
    }
   ],
   "source": [
    "import bw2data as bd\n",
    "import bw2io as bi\n",
    "\n",
    "PROJECT_NAME = \"linking LCA & dMFA_production\"\n",
    "\n",
    "bi.restore_project_directory(\n",
    "    fp='/etc/data/ecoinvent-3.10-cutoff-bw25.tar.gz',\n",
    "    project_name=PROJECT_NAME, overwrite_existing=True\n",
    ")\n",
    "\n"
   ]
  },
  {
   "cell_type": "code",
   "execution_count": 68,
   "id": "fa68990d",
   "metadata": {},
   "outputs": [
    {
     "name": "stdout",
     "output_type": "stream",
     "text": [
      "\u001b[2m08:38:22+0000\u001b[0m [\u001b[32m\u001b[1minfo     \u001b[0m] \u001b[1mApplying automatic update: 4.0 database search directories FTS5\u001b[0m\n",
      "\u001b[2m08:38:22+0000\u001b[0m [\u001b[32m\u001b[1minfo     \u001b[0m] \u001b[1mReindexing database ecoinvent-3.10-biosphere\u001b[0m\n",
      "\u001b[2m08:38:22+0000\u001b[0m [\u001b[32m\u001b[1minfo     \u001b[0m] \u001b[1mReindexing database ecoinvent-3.10-cutoff\u001b[0m\n"
     ]
    }
   ],
   "source": [
    "bd.projects.set_current(\"linking LCA & dMFA_production\")\n"
   ]
  },
  {
   "cell_type": "code",
   "execution_count": 69,
   "id": "6c621cde",
   "metadata": {},
   "outputs": [
    {
     "name": "stdout",
     "output_type": "stream",
     "text": [
      "Databases dictionary with 2 object(s):\n",
      "\tecoinvent-3.10-biosphere\n",
      "\tecoinvent-3.10-cutoff\n"
     ]
    }
   ],
   "source": [
    "print(bd.databases)"
   ]
  },
  {
   "cell_type": "code",
   "execution_count": 70,
   "id": "b193eaf5",
   "metadata": {},
   "outputs": [
    {
     "name": "stdout",
     "output_type": "stream",
     "text": [
      "23523\n",
      "['market for electricity, high voltage' (kilowatt hour, PE, None), 'market for waste polyethylene' (kilogram, BR, None), 'market for bagasse, from sugarcane' (kilogram, CO, None)]\n"
     ]
    }
   ],
   "source": [
    "db = bd.Database(\"ecoinvent-3.10-cutoff\")\n",
    "print(len(db))  # Total number of activities\n",
    "print(list(db)[:3])  # Display a few sample activitiesn"
   ]
  },
  {
   "cell_type": "code",
   "execution_count": 71,
   "id": "29fd392f",
   "metadata": {},
   "outputs": [],
   "source": [
    "db = bd.Database(\"ecoinvent-3.10-cutoff\")\n",
    "# Let the metadata system know this database exists. Not necessary if using a `bw2io` importer.\n",
    "db.register(hi_mom=True, language=\"Singlish\")"
   ]
  },
  {
   "cell_type": "code",
   "execution_count": 72,
   "id": "9282fca4",
   "metadata": {},
   "outputs": [
    {
     "data": {
      "text/plain": [
       "Databases dictionary with 2 object(s):\n",
       "\tecoinvent-3.10-biosphere\n",
       "\tecoinvent-3.10-cutoff"
      ]
     },
     "execution_count": 72,
     "metadata": {},
     "output_type": "execute_result"
    }
   ],
   "source": [
    "bd.databases"
   ]
  },
  {
   "cell_type": "code",
   "execution_count": 73,
   "id": "894dde21",
   "metadata": {},
   "outputs": [
    {
     "data": {
      "text/plain": [
       "{'overwrite': False,\n",
       " 'format': 'Ecoinvent XML',\n",
       " 'depends': ['ecoinvent-3.10-biosphere'],\n",
       " 'backend': 'sqlite',\n",
       " 'number': 0,\n",
       " 'modified': '2025-06-26T08:38:35.422940',\n",
       " 'geocollections': [],\n",
       " 'processed': '2025-06-26T08:38:35.424530',\n",
       " 'dirty': False,\n",
       " 'searchable': True}"
      ]
     },
     "execution_count": 73,
     "metadata": {},
     "output_type": "execute_result"
    }
   ],
   "source": [
    "db.metadata"
   ]
  },
  {
   "cell_type": "code",
   "execution_count": 74,
   "id": "dc0cdb55",
   "metadata": {},
   "outputs": [],
   "source": [
    "kettle = db.new_node(\n",
    "    name=\"kettle\",\n",
    "    unit=\"number\",\n",
    "    type=bd.labels.product_node_default,\n",
    ")\n",
    "\n",
    "kettle_production = db.new_node(\n",
    "    name=\"kettle production\",\n",
    "    location=\"RER\",\n",
    "    type=bd.labels.process_node_default,\n",
    ")\n",
    "\n",
    "kettle.save()\n",
    "kettle_production.save()"
   ]
  },
  {
   "cell_type": "code",
   "execution_count": 75,
   "id": "79e81629",
   "metadata": {},
   "outputs": [],
   "source": [
    "#electricity = db.new_node(\n",
    "    #name='Electricity',\n",
    "    #unit='kilowatt hour',\n",
    "    #type=bd.labels.product_node_default,\n",
    "#)\n",
    "#electricity_production = db.new_node(\n",
    "    #name='electricity production',\n",
    "    #location='',\n",
    "    #type=bd.labels.process_node_default,\n",
    "#)\n",
    "\n",
    "#electricity.save()\n",
    "#electricity_production.save()"
   ]
  },
  {
   "cell_type": "code",
   "execution_count": 76,
   "id": "4021a72f",
   "metadata": {},
   "outputs": [],
   "source": [
    "slt1_production = db.new_node(\n",
    "    code=\"slt-production\",\n",
    "    name='stainless steel production', #market for steel, chromium steel 18/8\n",
    "    location='RER',\n",
    "    type=bd.labels.process_node_default,\n",
    ")\n",
    "slt1 = db.new_node(\n",
    "    code=\"slt\",\n",
    "    name='steel',\n",
    "    unit=\"kilogram\",\n",
    "    type=bd.labels.product_node_default,\n",
    ")\n",
    "\n",
    "\n",
    "slt1_production.save()\n",
    "slt1.save()"
   ]
  },
  {
   "cell_type": "code",
   "execution_count": 77,
   "id": "00f77034",
   "metadata": {},
   "outputs": [],
   "source": [
    "slt2_production = db.new_node(\n",
    "    code=\"slt-production2\",\n",
    "    name='stainless steel production2', #market for steel, chromium steel 18/8\n",
    "    location='RER',\n",
    "    type=bd.labels.process_node_default,\n",
    ")\n",
    "slt2 = db.new_node(\n",
    "    code=\"slt2\",\n",
    "    name='steel2',\n",
    "    unit=\"kilogram\",\n",
    "    type=bd.labels.product_node_default,\n",
    ")\n",
    "\n",
    "\n",
    "slt2_production.save()\n",
    "slt2.save()"
   ]
  },
  {
   "cell_type": "code",
   "execution_count": 78,
   "id": "ef6ae22f",
   "metadata": {},
   "outputs": [],
   "source": [
    "#cp_production = db.new_node(\n",
    "    #code=\"cp-production\",\n",
    "    #name='copper production', #market for polypropylene, granulate\n",
    "    #location='DE',\n",
    "    #type=bd.labels.process_node_default,\n",
    "#)\n",
    "#cp = db.new_node(\n",
    "    #code=\"cp\",\n",
    "    #name='copper',\n",
    "    #unit=\"kilogram\",\n",
    "    #type=bd.labels.product_node_default,\n",
    "#)\n",
    "\n",
    "\n",
    "#cp_production.save()\n",
    "#cp.save()"
   ]
  },
  {
   "cell_type": "code",
   "execution_count": 79,
   "id": "a72531f1",
   "metadata": {},
   "outputs": [],
   "source": [
    "co2 = db.new_node(\n",
    "    name=\"Carbon Dioxide\", \n",
    "    context=('air',),\n",
    "    tags={'CAS Number': '124-38-9'},\n",
    "    unit='kilogram',\n",
    "    type=bd.labels.biosphere_node_default,\n",
    ")\n",
    "\n",
    "co2.save()"
   ]
  },
  {
   "cell_type": "code",
   "execution_count": 80,
   "id": "392b64c1",
   "metadata": {},
   "outputs": [],
   "source": [
    "kettle_production.new_edge(\n",
    "    amount=1,\n",
    "    input=kettle,\n",
    "    type=bd.labels.production_edge_default,\n",
    ").save()\n",
    "slt1_production.new_edge(\n",
    "    amount=1,\n",
    "    input=slt1,\n",
    "    type=bd.labels.production_edge_default,\n",
    ").save()\n",
    "slt2_production.new_edge(\n",
    "    amount=1,\n",
    "    input=slt2,\n",
    "    type=bd.labels.production_edge_default,\n",
    ").save()\n",
    "#cp_production.new_edge(\n",
    "   # amount=1,\n",
    "    #input=cp,\n",
    "    #type=bd.labels.production_edge_default,\n",
    "#).save()\n",
    "#electricity_production.new_edge(\n",
    "    #amount=1,\n",
    "    #input=electricity,\n",
    "    #type=bd.labels.production_edge_default,\n",
    "#).save()    "
   ]
  },
  {
   "cell_type": "code",
   "execution_count": 81,
   "id": "86001bb2",
   "metadata": {},
   "outputs": [],
   "source": [
    "materials = {\n",
    "    slt1: 0.546246,\n",
    "    slt2: 0,\n",
    "    #cp: 0.017046,\n",
    "    # ... other nodes and their corresponding values in kilograms\n",
    "}\n",
    "\n",
    "for material, amount in materials.items():\n",
    "    kettle_production.new_edge(\n",
    "        amount=amount,\n",
    "        type=bd.labels.consumption_edge_default,\n",
    "        input=material\n",
    "    ).save()"
   ]
  },
  {
   "cell_type": "code",
   "execution_count": 82,
   "id": "124d2dbe",
   "metadata": {},
   "outputs": [],
   "source": [
    "#slt_production.new_edge(\n",
    "    #amount=0.01389,  # 0.01389 kWh of electricity, in the papaer (MARCINKOWSKI, 2017)\n",
    "    #uncertainty_type=5, \n",
    "    #minimum=0.012, \n",
    "    #maximum=0.016,\n",
    "    #type=bd.labels.consumption_edge_default,\n",
    "    #input=electricity,\n",
    "#).save()\n",
    "\n"
   ]
  },
  {
   "cell_type": "code",
   "execution_count": 83,
   "id": "ac071bd9",
   "metadata": {},
   "outputs": [],
   "source": [
    "#cp_production.new_edge(\n",
    "    #amount=0.01389,  \n",
    "    #uncertainty_type=5, \n",
    "    #minimum=0.012,  \n",
    "    #maximum=0.016,  \n",
    "    #type=bd.labels.consumption_edge_default,\n",
    "    #input=electricity,\n",
    "#).save()"
   ]
  },
  {
   "cell_type": "code",
   "execution_count": 84,
   "id": "1c9d8419",
   "metadata": {},
   "outputs": [],
   "source": [
    "slt1_production.new_edge(\n",
    "    amount=4.62, \n",
    "    uncertainty_type=5, \n",
    "    minimum=4.158,\n",
    "    maximum=5.082, \n",
    "    type=bd.labels.biosphere_edge_default,\n",
    "    input=co2,\n",
    ").save()"
   ]
  },
  {
   "cell_type": "code",
   "execution_count": 85,
   "id": "a6cfd628",
   "metadata": {},
   "outputs": [],
   "source": [
    "slt2_production.new_edge(\n",
    "    amount=0, \n",
    "    uncertainty_type=5, \n",
    "    minimum=0,\n",
    "    maximum=0, \n",
    "    type=bd.labels.biosphere_edge_default,\n",
    "    input=co2,\n",
    ").save()"
   ]
  },
  {
   "cell_type": "code",
   "execution_count": 86,
   "id": "efd43145",
   "metadata": {},
   "outputs": [],
   "source": [
    "import bw2calc as bc"
   ]
  },
  {
   "cell_type": "code",
   "execution_count": 87,
   "id": "21e858b7",
   "metadata": {},
   "outputs": [],
   "source": [
    "functional_unit, data_objs, _ = bd.prepare_lca_inputs({kettle: 1}, remapping=False)"
   ]
  },
  {
   "cell_type": "code",
   "execution_count": 88,
   "id": "054de21f",
   "metadata": {},
   "outputs": [
    {
     "data": {
      "text/plain": [
       "2.5236564213757333"
      ]
     },
     "execution_count": 88,
     "metadata": {},
     "output_type": "execute_result"
    }
   ],
   "source": [
    "lca = bc.LCA(demand=functional_unit, data_objs=data_objs)\n",
    "lca.lci()\n",
    "lca.inventory[lca.dicts.biosphere[co2.id], :].sum()"
   ]
  },
  {
   "cell_type": "markdown",
   "id": "01053b8f-c77a-4d53-bb40-8693ed3409b5",
   "metadata": {},
   "source": [
    "# Use Phase"
   ]
  },
  {
   "cell_type": "code",
   "execution_count": 89,
   "id": "34a2a222-92cb-4ce4-90f3-9b69f0275cb9",
   "metadata": {},
   "outputs": [],
   "source": [
    "kettle_service = db.new_node(\n",
    "    name='kettle service per year',\n",
    "    unit='kWh per year',\n",
    "    type=bd.labels.product_node_default,\n",
    ")\n",
    "\n",
    "using_kettle = db.new_node(\n",
    "    name='using kettle',\n",
    "    location='IE',\n",
    "    type=bd.labels.process_node_default,\n",
    ")\n",
    "\n",
    "kettle_service.save()\n",
    "using_kettle.save()"
   ]
  },
  {
   "cell_type": "code",
   "execution_count": 92,
   "id": "cf7a32db-4ec7-4af7-bd61-88b444878e04",
   "metadata": {},
   "outputs": [],
   "source": [
    "using_kettle.new_edge(\n",
    "    amount=1,\n",
    "    input=kettle_service,\n",
    "    type=bd.labels.production_edge_default,\n",
    ").save()"
   ]
  },
  {
   "cell_type": "code",
   "execution_count": 90,
   "id": "05e44182-e0a7-4d91-8550-d13657256ddd",
   "metadata": {},
   "outputs": [
    {
     "name": "stdout",
     "output_type": "stream",
     "text": [
      "'market for electricity, medium voltage' (kilowatt hour, IE, None)\n"
     ]
    }
   ],
   "source": [
    "electric_mix_IE = bd.get_node(\n",
    "    name='market for electricity, medium voltage', \n",
    "    location='IE',\n",
    ")\n",
    "print(electric_mix_IE )"
   ]
  },
  {
   "cell_type": "code",
   "execution_count": 93,
   "id": "70676927-759d-402d-9ebc-f0a7614fc245",
   "metadata": {},
   "outputs": [],
   "source": [
    "using_kettle.new_edge(\n",
    "    amount=167, #value is average yearly energy used per kettle Durand et al. 2022\n",
    "    type=bd.labels.consumption_edge_default,\n",
    "    input=electric_mix_IE\n",
    ").save()"
   ]
  },
  {
   "cell_type": "code",
   "execution_count": 94,
   "id": "33cdf264-18b5-4abd-bdf3-0159cc284697",
   "metadata": {},
   "outputs": [
    {
     "data": {
      "text/plain": [
       "{(('IPCC 2021', 'climate change', 'global warming potential (GWP100)'),\n",
       "  'use'): 54.562908842123264}"
      ]
     },
     "execution_count": 94,
     "metadata": {},
     "output_type": "execute_result"
    }
   ],
   "source": [
    "functional_unit = {\n",
    "    \"use\": {db.get(kettle_service['code']).id: 1},\n",
    "}\n",
    "multi_config = {\n",
    "    \"impact_categories\": methods\n",
    "}\n",
    "multi_data_objs = bd.get_multilca_data_objs(functional_units=functional_unit, method_config=multi_config)\n",
    "\n",
    "mlca = bc.MultiLCA(demands=functional_unit, method_config=multi_config, data_objs=multi_data_objs)\n",
    "mlca.lci()\n",
    "mlca.lcia()\n",
    "mlca.scores"
   ]
  },
  {
   "cell_type": "markdown",
   "id": "992232a8-53df-4f91-8ba9-68d9ffd24e7c",
   "metadata": {},
   "source": [
    "# End of Life"
   ]
  },
  {
   "cell_type": "code",
   "execution_count": 95,
   "id": "4c2731c6-eee4-4e1c-a118-00d3a607f2ec",
   "metadata": {},
   "outputs": [],
   "source": [
    "kettle_treated = db.new_node(\n",
    "    name='kettle waste treated',\n",
    "    unit='number',\n",
    "    type=bd.labels.product_node_default,\n",
    ")\n",
    "\n",
    "treating_kettle = db.new_node(\n",
    "    name='kettle waste treatment',\n",
    "    location='IE',\n",
    "    type=bd.labels.process_node_default,\n",
    ")\n",
    "\n",
    "kettle_treated.save()\n",
    "treating_kettle.save()"
   ]
  },
  {
   "cell_type": "code",
   "execution_count": 96,
   "id": "57ab84e6-4626-40d4-b289-cb627cd08e98",
   "metadata": {},
   "outputs": [],
   "source": [
    "treating_kettle.new_edge(\n",
    "    amount=1,\n",
    "    input=kettle_treated,\n",
    "    type=bd.labels.production_edge_default,\n",
    ").save()"
   ]
  },
  {
   "cell_type": "code",
   "execution_count": 138,
   "id": "0e70860d-3b66-4a0b-b226-652100900010",
   "metadata": {},
   "outputs": [
    {
     "name": "stdout",
     "output_type": "stream",
     "text": [
      "['treatment of electronics scrap, metals recovery in copper smelter' (kilogram, RoW, None)]\n"
     ]
    },
    {
     "ename": "TypeError",
     "evalue": "list indices must be integers or slices, not str",
     "output_type": "error",
     "traceback": [
      "\u001b[31m---------------------------------------------------------------------------\u001b[39m",
      "\u001b[31mTypeError\u001b[39m                                 Traceback (most recent call last)",
      "\u001b[36mCell\u001b[39m\u001b[36m \u001b[39m\u001b[32mIn[138]\u001b[39m\u001b[32m, line 3\u001b[39m\n\u001b[32m      1\u001b[39m waste_metal = [x \u001b[38;5;28;01mfor\u001b[39;00m x \u001b[38;5;129;01min\u001b[39;00m db \u001b[38;5;28;01mif\u001b[39;00m \u001b[33m'\u001b[39m\u001b[33mtreatment of electronics scrap, metals recovery in copper smelter\u001b[39m\u001b[33m'\u001b[39m == x[\u001b[33m'\u001b[39m\u001b[33mname\u001b[39m\u001b[33m'\u001b[39m] \u001b[38;5;129;01mand\u001b[39;00m \u001b[33m'\u001b[39m\u001b[33mRoW\u001b[39m\u001b[33m'\u001b[39m \u001b[38;5;129;01min\u001b[39;00m x[\u001b[33m'\u001b[39m\u001b[33mlocation\u001b[39m\u001b[33m'\u001b[39m] \u001b[38;5;129;01mand\u001b[39;00m \u001b[33m'\u001b[39m\u001b[33mmetal part of electronics scrap, in copper, anode\u001b[39m\u001b[33m'\u001b[39m \u001b[38;5;129;01min\u001b[39;00m x[\u001b[33m'\u001b[39m\u001b[33mreference product\u001b[39m\u001b[33m'\u001b[39m]]\n\u001b[32m      2\u001b[39m \u001b[38;5;28mprint\u001b[39m(waste_metal)\n\u001b[32m----> \u001b[39m\u001b[32m3\u001b[39m \u001b[38;5;28mprint\u001b[39m(\u001b[43mwaste_metal\u001b[49m\u001b[43m[\u001b[49m\u001b[33;43m'\u001b[39;49m\u001b[33;43mid\u001b[39;49m\u001b[33;43m'\u001b[39;49m\u001b[43m]\u001b[49m)\n",
      "\u001b[31mTypeError\u001b[39m: list indices must be integers or slices, not str"
     ]
    }
   ],
   "source": [
    "waste_metal = [x for x in db if 'treatment of electronics scrap, metals recovery in copper smelter' == x['name'] and 'RoW' in x['location'] and 'metal part of electronics scrap, in copper, anode' in x['reference product']]\n",
    "print(waste_metal)\n",
    "print(waste_metal['id'])"
   ]
  },
  {
   "cell_type": "code",
   "execution_count": 140,
   "id": "cf8b38aa-2341-4f7e-987c-c67fc4768cfb",
   "metadata": {},
   "outputs": [
    {
     "name": "stdout",
     "output_type": "stream",
     "text": [
      "'market for metal part of electronics scrap, in copper, anode' (kilogram, GLO, None)\n"
     ]
    }
   ],
   "source": [
    "waste_metal = bd.get_node(\n",
    "    name='market for metal part of electronics scrap, in copper, anode', \n",
    ")\n",
    "\n",
    "print(waste_metal)"
   ]
  },
  {
   "cell_type": "code",
   "execution_count": 127,
   "id": "9a41a4b7-5aa2-4d02-933a-eb31309c0651",
   "metadata": {},
   "outputs": [
    {
     "name": "stdout",
     "output_type": "stream",
     "text": [
      "'market for waste plastic, mixture' (kilogram, IE, None)\n"
     ]
    }
   ],
   "source": [
    "waste_plastic = bd.get_node(\n",
    "    name='market for waste plastic, mixture',\n",
    "    location='IE',\n",
    ")\n",
    "\n",
    "print(waste_plastic)"
   ]
  },
  {
   "cell_type": "code",
   "execution_count": 145,
   "id": "00a8c774-1947-49df-bc99-3be7dc1b0bb8",
   "metadata": {},
   "outputs": [],
   "source": [
    "treating_kettle.new_edge(\n",
    "    amount=-27.349,\n",
    "    type=bd.labels.consumption_edge_default,\n",
    "    input=waste_metal\n",
    ").save()\n",
    "\n",
    "treating_kettle.new_edge(\n",
    "    amount=-839.726,\n",
    "    type=bd.labels.consumption_edge_default,\n",
    "    input=waste_plastic\n",
    ").save()"
   ]
  },
  {
   "cell_type": "code",
   "execution_count": 146,
   "id": "652bbcc8-2c86-4954-9b74-025d8f7a26f1",
   "metadata": {},
   "outputs": [
    {
     "data": {
      "text/plain": [
       "{(('IPCC 2021', 'climate change', 'global warming potential (GWP100)'),\n",
       "  'EoL'): 925.6975888146592}"
      ]
     },
     "execution_count": 146,
     "metadata": {},
     "output_type": "execute_result"
    }
   ],
   "source": [
    "functional_unit = {\n",
    "    \"EoL\": {db.get(kettle_treated['code']).id: 1},\n",
    "}\n",
    "multi_config = {\n",
    "    \"impact_categories\": methods\n",
    "}\n",
    "multi_data_objs = bd.get_multilca_data_objs(functional_units=functional_unit, method_config=multi_config)\n",
    "\n",
    "mlca = bc.MultiLCA(demands=functional_unit, method_config=multi_config, data_objs=multi_data_objs)\n",
    "mlca.lci()\n",
    "mlca.lcia()\n",
    "mlca.scores"
   ]
  },
  {
   "cell_type": "markdown",
   "id": "ca052570-2b20-4daa-b8ce-56c04debfd03",
   "metadata": {},
   "source": [
    "# Multi-Impact Assessment"
   ]
  },
  {
   "cell_type": "code",
   "execution_count": 60,
   "id": "9c2afaa4-198e-40ab-8cfc-a3233775712f",
   "metadata": {},
   "outputs": [
    {
     "data": {
      "text/plain": [
       "[('IPCC 2021', 'climate change', 'global warming potential (GWP100)')]"
      ]
     },
     "execution_count": 60,
     "metadata": {},
     "output_type": "execute_result"
    }
   ],
   "source": [
    "# included recipie and just GWP100 \n",
    "# methods = [\n",
    "#     method for method in bd.methods \n",
    "#     if 'ReCiPe 2016 v1.03, midpoint (H)' in method[0] \n",
    "#     and 'LT' not in method[2]\n",
    "# ]\n",
    "\n",
    "methods = [\n",
    "    method for method in bd.methods \n",
    "    if 'ipcc 2021' in method[0].lower() \n",
    "    and method[1] == 'climate change'\n",
    "    and 'gwp100' in method[2].lower()\n",
    "    and 'LT' not in method[2]\n",
    "]\n",
    "methods"
   ]
  },
  {
   "cell_type": "code",
   "execution_count": 87,
   "id": "ce285100-f62c-4092-8cec-cd72af23ee78",
   "metadata": {},
   "outputs": [],
   "source": [
    "functional_unit = {\n",
    "    \"kettle\": {db.get(kettle['code']).id: 1},\n",
    "}\n",
    "multi_config = {\n",
    "    \"impact_categories\": methods\n",
    "}\n",
    "multi_data_objs = bd.get_multilca_data_objs(functional_units=functional_unit, method_config=multi_config)"
   ]
  },
  {
   "cell_type": "code",
   "execution_count": 88,
   "id": "07a64fc1-f4fa-46c0-84ac-4404236eccdc",
   "metadata": {},
   "outputs": [
    {
     "data": {
      "text/plain": [
       "{(('IPCC 2021', 'climate change', 'global warming potential (GWP100)'),\n",
       "  'kettle'): 0.0}"
      ]
     },
     "execution_count": 88,
     "metadata": {},
     "output_type": "execute_result"
    }
   ],
   "source": [
    "mlca = bc.MultiLCA(demands=functional_unit, method_config=multi_config, data_objs=multi_data_objs)\n",
    "mlca.lci()\n",
    "mlca.lcia()\n",
    "mlca.scores()"
   ]
  },
  {
   "cell_type": "markdown",
   "id": "0e435a12-ba2d-445a-9103-bc8d28edb559",
   "metadata": {
    "jp-MarkdownHeadingCollapsed": true
   },
   "source": [
    "# MFA"
   ]
  },
  {
   "cell_type": "code",
   "execution_count": 26,
   "id": "32887d01",
   "metadata": {},
   "outputs": [],
   "source": [
    "import pandas as pd\n",
    "import numpy as np\n",
    "import scipy.stats\n",
    "from os import chdir\n",
    "import matplotlib.pyplot as plt"
   ]
  },
  {
   "cell_type": "code",
   "execution_count": 27,
   "id": "259e4065",
   "metadata": {},
   "outputs": [
    {
     "name": "stderr",
     "output_type": "stream",
     "text": [
      "/opt/tljh/user/envs/bw25/lib/python3.12/site-packages/openpyxl/worksheet/_read_only.py:85: UserWarning: Conditional Formatting extension is not supported and will be removed\n",
      "  for idx, row in parser.parse():\n",
      "/opt/tljh/user/envs/bw25/lib/python3.12/site-packages/openpyxl/worksheet/_read_only.py:85: UserWarning: Unknown extension is not supported and will be removed\n",
      "  for idx, row in parser.parse():\n"
     ]
    }
   ],
   "source": [
    "# Load input data, inflow-driven model:\n",
    "stock_flow_timeseries = pd.read_excel(r'WEEE_generated_Tool_IE.xlsm', sheet_name='POM')\n",
    "# Extract the relevant rows and columns\n",
    "\n",
    "stock_flow_timeseries = stock_flow_timeseries.iloc[20,6:-9]\n",
    "stock_flow_timeseries = stock_flow_timeseries.to_frame()\n",
    "\n",
    "timesteps = range(1980,2023)\n",
    "\n",
    "stock_flow_timeseries['year'] = timesteps\n",
    "\n",
    "stock_flow_timeseries = stock_flow_timeseries.iloc[1:,:]\n",
    "stock_flow_timeseries = stock_flow_timeseries.set_index('year')\n",
    "stock_flow_timeseries = stock_flow_timeseries.rename(columns={20:'inflow'})\n"
   ]
  },
  {
   "cell_type": "code",
   "execution_count": 28,
   "id": "6ba4ba48",
   "metadata": {},
   "outputs": [
    {
     "name": "stdout",
     "output_type": "stream",
     "text": [
      "        inflow\n",
      "year          \n",
      "1981   191.574\n",
      "1982   209.692\n",
      "1983   227.432\n",
      "1984   245.402\n",
      "1985   262.572\n",
      "1986   278.983\n",
      "1987   295.891\n",
      "1988   311.018\n",
      "1989   325.363\n",
      "1990   341.245\n",
      "1991   359.519\n",
      "1992   379.035\n",
      "1993   397.613\n",
      "1994    415.56\n",
      "1995   413.586\n",
      "1996   424.835\n",
      "1997   462.496\n",
      "1998   501.279\n",
      "1999   562.957\n",
      "2000   626.955\n",
      "2001   778.758\n",
      "2002   685.988\n",
      "2003   904.264\n",
      "2004  1123.515\n",
      "2005  1071.773\n",
      "2006  1020.329\n",
      "2007   973.329\n",
      "2008   918.575\n",
      "2009   805.559\n",
      "2010    777.26\n",
      "2011   747.461\n",
      "2012   917.471\n",
      "2013   976.284\n",
      "2014  1094.138\n",
      "2015  1272.742\n",
      "2016  1456.963\n",
      "2017  1376.206\n",
      "2018  1416.225\n",
      "2019  1452.931\n",
      "2020  1486.004\n",
      "2021  1687.912\n",
      "2022   1741.44\n"
     ]
    }
   ],
   "source": [
    "print(stock_flow_timeseries)\n"
   ]
  },
  {
   "cell_type": "code",
   "execution_count": 29,
   "id": "988dc0ad",
   "metadata": {},
   "outputs": [],
   "source": [
    "time_max = stock_flow_timeseries.shape[0]\n",
    "timesteps = np.arange(0, time_max)"
   ]
  },
  {
   "cell_type": "code",
   "execution_count": 30,
   "id": "8938b623",
   "metadata": {},
   "outputs": [
    {
     "data": {
      "image/png": "[encoded data removed]",
      "text/plain": [
       "<Figure size 640x480 with 1 Axes>"
      ]
     },
     "metadata": {},
     "output_type": "display_data"
    }
   ],
   "source": [
    "# Weibull distributed survival curve\n",
    "# based on belgium \n",
    "curve_shape = 1.73\n",
    "curve_scale = 7.8\n",
    "curve_surv = scipy.stats.weibull_min.sf(timesteps, curve_shape, 0, curve_scale)\n",
    "plt.plot(curve_surv)\n",
    "curve_surv = curve_surv.astype(float)"
   ]
  },
  {
   "cell_type": "code",
   "execution_count": 31,
   "id": "f21ba98a",
   "metadata": {},
   "outputs": [
    {
     "name": "stdout",
     "output_type": "stream",
     "text": [
      "float64\n"
     ]
    }
   ],
   "source": [
    "print(curve_surv.dtype)"
   ]
  },
  {
   "cell_type": "code",
   "execution_count": 32,
   "id": "9f8b3393",
   "metadata": {},
   "outputs": [],
   "source": [
    "# create survival curve matrix with placeholder zeros\n",
    "curve_surv_matrix = pd.DataFrame(0.0, index=timesteps, columns=timesteps)\n",
    "#print(curve_surv_matrix)\n",
    "# populate the survival curve matrix with shifted curves, column by column using slices\n",
    "\n",
    "for time in timesteps:\n",
    "    curve_surv_matrix.loc[time:, time] = curve_surv[0:time_max - time]\n",
    "\n",
    "#print(curve_surv_matrix)"
   ]
  },
  {
   "cell_type": "code",
   "execution_count": 33,
   "id": "a945bb81",
   "metadata": {},
   "outputs": [],
   "source": [
    "# create survival matrix with placeholder zeros\n",
    "cohort_surv_matrix = pd.DataFrame(0.0, index=timesteps, columns=timesteps)\n",
    "\n",
    "# multiply the inflow times the shifted curves to get the cohorts' behavior over time\n",
    "\n",
    "for time in timesteps:\n",
    "    cohort_surv_matrix.loc[:, time] = curve_surv_matrix.loc[:, time] * stock_flow_timeseries['inflow'].iloc[time]\n",
    "\n",
    "# set row index to years instead of timesteps\n",
    "cohort_surv_matrix.index = stock_flow_timeseries.index\n",
    "\n",
    "# calculate flows & stocks using the cohort_surv_matrix\n",
    "stock_flow_timeseries['stock'] = cohort_surv_matrix.sum(axis=1)\n",
    "stock_flow_timeseries['nas'] = np.diff(stock_flow_timeseries['stock'], prepend=0)  # prepending 0 assumes no initial stock\n",
    "stock_flow_timeseries['outflow'] = stock_flow_timeseries['inflow'] - stock_flow_timeseries['nas']\n"
   ]
  },
  {
   "cell_type": "code",
   "execution_count": 34,
   "id": "20dc5ddf",
   "metadata": {},
   "outputs": [
    {
     "data": {
      "image/png": "[encoded data removed]",
      "text/plain": [
       "<Figure size 640x480 with 1 Axes>"
      ]
     },
     "metadata": {},
     "output_type": "display_data"
    },
    {
     "data": {
      "text/plain": [
       "[<matplotlib.lines.Line2D at 0x7fe8b42fe0f0>]"
      ]
     },
     "execution_count": 34,
     "metadata": {},
     "output_type": "execute_result"
    },
    {
     "data": {
      "image/png": "[encoded data removed]",
      "text/plain": [
       "<Figure size 640x480 with 1 Axes>"
      ]
     },
     "metadata": {},
     "output_type": "display_data"
    }
   ],
   "source": [
    "plt.plot(stock_flow_timeseries.index,stock_flow_timeseries['nas'], label = 'NAS')\n",
    "plt.plot(stock_flow_timeseries.index,stock_flow_timeseries['inflow'], label = 'Inflow')\n",
    "plt.plot(stock_flow_timeseries.index,stock_flow_timeseries['outflow'], label = 'outflow')\n",
    "plt.legend()\n",
    "plt.show()\n",
    "plt.close()\n",
    "plt.plot(stock_flow_timeseries.index,stock_flow_timeseries['stock'], label = 'stock')"
   ]
  },
  {
   "cell_type": "code",
   "execution_count": 35,
   "id": "2a217bc8",
   "metadata": {},
   "outputs": [
    {
     "data": {
      "text/plain": [
       "<matplotlib.legend.Legend at 0x7fe8b4345820>"
      ]
     },
     "execution_count": 35,
     "metadata": {},
     "output_type": "execute_result"
    },
    {
     "data": {
      "image/png": "[encoded data removed]",
      "text/plain": [
       "<Figure size 640x480 with 1 Axes>"
      ]
     },
     "metadata": {},
     "output_type": "display_data"
    }
   ],
   "source": [
    "steel_intensity = 0.3653\n",
    "steel_stock_flow_timeseries = stock_flow_timeseries*steel_intensity\n",
    "plt.plot(stock_flow_timeseries.index,stock_flow_timeseries['outflow'], label = 'outflow')\n",
    "plt.plot(steel_stock_flow_timeseries.index,steel_stock_flow_timeseries['outflow'], label = 'steel outflow')\n",
    "plt.legend()"
   ]
  },
  {
   "cell_type": "code",
   "execution_count": 36,
   "id": "6413ebe1",
   "metadata": {},
   "outputs": [
    {
     "data": {
      "text/plain": [
       "<matplotlib.legend.Legend at 0x7fe8b42dbcb0>"
      ]
     },
     "execution_count": 36,
     "metadata": {},
     "output_type": "execute_result"
    },
    {
     "data": {
      "image/png": "[encoded data removed]",
      "text/plain": [
       "<Figure size 640x480 with 1 Axes>"
      ]
     },
     "metadata": {},
     "output_type": "display_data"
    }
   ],
   "source": [
    "steel_recycle_efficiency = .784444\n",
    "secondary_steel_stock_flow_timeseries = steel_stock_flow_timeseries*steel_recycle_efficiency\n",
    "\n",
    "\n",
    "plt.plot(stock_flow_timeseries.index,stock_flow_timeseries['outflow'], label = 'outflow')\n",
    "plt.plot(steel_stock_flow_timeseries.index,steel_stock_flow_timeseries['outflow'], label = 'steel outflow')\n",
    "plt.plot(secondary_steel_stock_flow_timeseries.index,secondary_steel_stock_flow_timeseries['outflow'], label = 'recycled steel')\n",
    "plt.legend()"
   ]
  },
  {
   "cell_type": "code",
   "execution_count": 37,
   "id": "463ab395",
   "metadata": {},
   "outputs": [],
   "source": [
    "secondary_steel_share = secondary_steel_stock_flow_timeseries['outflow']/steel_stock_flow_timeseries['inflow']\n",
    "#print(secondary_steel_share)"
   ]
  },
  {
   "cell_type": "code",
   "execution_count": 38,
   "id": "e532db9b",
   "metadata": {},
   "outputs": [
    {
     "data": {
      "text/plain": [
       "{0: 0.0,\n",
       " 1: 0.020220549836779397,\n",
       " 2: 0.06161149056516167,\n",
       " 3: 0.11355509467297879,\n",
       " 4: 0.170377011437841,\n",
       " 5: 0.22814196375824192,\n",
       " 6: 0.2829506206772885,\n",
       " 7: 0.335157941012714,\n",
       " 8: 0.3829996852411873,\n",
       " 9: 0.42313738081124247,\n",
       " 10: 0.4542848107441111,\n",
       " 11: 0.4784623873663422,\n",
       " 12: 0.4993941220440544,\n",
       " 13: 0.5175429585542917,\n",
       " 14: 0.5584639861656617,\n",
       " 15: 0.578910841440185,\n",
       " 16: 0.561825376954089,\n",
       " 17: 0.5453540790036875,\n",
       " 18: 0.5104838887942497,\n",
       " 19: 0.4832148924417496,\n",
       " 20: 0.41238601935039126,\n",
       " 21: 0.5023036343278511,\n",
       " 22: 0.4097328453610008,\n",
       " 23: 0.3567579367381307,\n",
       " 24: 0.41100125670173093,\n",
       " 25: 0.4767799601937566,\n",
       " 26: 0.5477395355049691,\n",
       " 27: 0.6277708933222904,\n",
       " 28: 0.762416888980877,\n",
       " 29: 0.8265113450552737,\n",
       " 30: 0.8838255311127807,\n",
       " 31: 0.7299886124713949,\n",
       " 32: 0.6916730142226925,\n",
       " 33: 0.6227203861871833,\n",
       " 34: 0.5428643128657764,\n",
       " 35: 0.48610717539442433,\n",
       " 36: 0.535380772415173,\n",
       " 37: 0.5456493039418815,\n",
       " 38: 0.5592499659525586,\n",
       " 39: 0.5752235489911421,\n",
       " 40: 0.5319995456918084,\n",
       " 41: 0.5424294610934609}"
      ]
     },
     "execution_count": 38,
     "metadata": {},
     "output_type": "execute_result"
    }
   ],
   "source": [
    "zipped = zip(np.arange(time_max-len(timesteps), time_max), np.array(secondary_steel_share))\n",
    "secondary_steel_share_dict = {}\n",
    "for time_step, secondary_share in zipped:\n",
    "    secondary_steel_share_dict[time_step] = secondary_share\n",
    "\n",
    "secondary_steel_share_dict"
   ]
  },
  {
   "cell_type": "markdown",
   "id": "b72a900f-9814-4699-947b-7d41b21ac1e6",
   "metadata": {},
   "source": [
    "# Coupling"
   ]
  },
  {
   "cell_type": "code",
   "execution_count": 39,
   "id": "a4477a72",
   "metadata": {},
   "outputs": [],
   "source": [
    "def update_material_composition(secondary_steel_share):\n",
    "    materials = {}\n",
    "    steel_primary_share = 1 - secondary_steel_share\n",
    "    materials['slt1'] = 0.546246 * steel_primary_share\n",
    "    materials['slt2'] = 0.546246 * secondary_steel_share\n",
    "    return materials"
   ]
  },
  {
   "cell_type": "code",
   "execution_count": 40,
   "id": "2c5ad0d5-e6c8-40d2-b0b2-a0ea783e0eae",
   "metadata": {},
   "outputs": [
    {
     "data": {
      "text/plain": [
       "{'slt1': 0.546246, 'slt2': 0.0}"
      ]
     },
     "execution_count": 40,
     "metadata": {},
     "output_type": "execute_result"
    }
   ],
   "source": [
    "update_material_composition(0)"
   ]
  },
  {
   "cell_type": "code",
   "execution_count": 41,
   "id": "512fb707-32d3-4ba1-815c-d7440d4cc3b3",
   "metadata": {},
   "outputs": [
    {
     "data": {
      "text/plain": [
       "[{'slt1': 0.546246, 'slt2': 0.0},\n",
       " {'slt1': 0.5352006055338586, 'slt2': 0.011045394466141398},\n",
       " {'slt1': 0.5125909697247427, 'slt2': 0.033655030275257306},\n",
       " {'slt1': 0.48421698375526406, 'slt2': 0.062029016244735974},\n",
       " {'slt1': 0.4531782390101251, 'slt2': 0.0930677609898749},\n",
       " {'slt1': 0.4216243648649154, 'slt2': 0.12462163513508462},\n",
       " {'slt1': 0.39168535525751386, 'slt2': 0.15456064474248613},\n",
       " {'slt1': 0.36316731535356905, 'slt2': 0.18307868464643098},\n",
       " {'slt1': 0.33703395393574237, 'slt2': 0.2092120460642576},\n",
       " {'slt1': 0.31510889828138205, 'slt2': 0.23113710171861795},\n",
       " {'slt1': 0.2980947392702723, 'slt2': 0.2481512607297277},\n",
       " {'slt1': 0.284887834750685, 'slt2': 0.261358165249315},\n",
       " {'slt1': 0.2734539584099234, 'slt2': 0.2727920415900766},\n",
       " {'slt1': 0.2635402290615524, 'slt2': 0.2827057709384476},\n",
       " {'slt1': 0.24118728141295195, 'slt2': 0.3050587185870481},\n",
       " {'slt1': 0.2300182685066647, 'slt2': 0.31622773149333533},\n",
       " {'slt1': 0.23935113514033673, 'slt2': 0.3068948648596633},\n",
       " {'slt1': 0.24834851576055172, 'slt2': 0.2978974842394483},\n",
       " {'slt1': 0.2673962176816963, 'slt2': 0.2788497823183037},\n",
       " {'slt1': 0.282291797863264, 'slt2': 0.2639542021367359},\n",
       " {'slt1': 0.3209817864739262, 'slt2': 0.22526421352607384},\n",
       " {'slt1': 0.27186464896294865, 'slt2': 0.27438135103705136},\n",
       " {'slt1': 0.3224310721529348, 'slt2': 0.22381492784706525},\n",
       " {'slt1': 0.35136840408854303, 'slt2': 0.19487759591145695},\n",
       " {'slt1': 0.3217382075317063, 'slt2': 0.22450779246829372},\n",
       " {'slt1': 0.28580685386400123, 'slt2': 0.2604391461359988},\n",
       " {'slt1': 0.24704546968855265, 'slt2': 0.2992005303114474},\n",
       " {'slt1': 0.20332866060627217, 'slt2': 0.34291733939372787},\n",
       " {'slt1': 0.12977882406175187, 'slt2': 0.41646717593824817},\n",
       " {'slt1': 0.09476748380893697, 'slt2': 0.45147851619106305},\n",
       " {'slt1': 0.06345983893176799, 'slt2': 0.482786161068232},\n",
       " {'slt1': 0.14749264039195042, 'slt2': 0.3987533596080496},\n",
       " {'slt1': 0.16842238267291115, 'slt2': 0.37782361732708886},\n",
       " {'slt1': 0.20608747992679588, 'slt2': 0.34015852007320413},\n",
       " {'slt1': 0.2497085405543211, 'slt2': 0.2965374594456789},\n",
       " {'slt1': 0.28071189986949724, 'slt2': 0.2655341001305027},\n",
       " {'slt1': 0.25379639459130143, 'slt2': 0.2924496054086986},\n",
       " {'slt1': 0.24818725031896302, 'slt2': 0.298058749681037},\n",
       " {'slt1': 0.24075794309827867, 'slt2': 0.3054880569017213},\n",
       " {'slt1': 0.23203243725778458, 'slt2': 0.31421356274221546},\n",
       " {'slt1': 0.25564337616403243, 'slt2': 0.2906026238359676},\n",
       " {'slt1': 0.24994607659554136, 'slt2': 0.29629992340445865}]"
      ]
     },
     "execution_count": 41,
     "metadata": {},
     "output_type": "execute_result"
    }
   ],
   "source": [
    "materials_list = []\n",
    "for value in secondary_steel_share_dict:\n",
    "    materials_list.append(update_material_composition(secondary_steel_share_dict[value]))\n",
    "materials_list"
   ]
  },
  {
   "cell_type": "code",
   "execution_count": null,
   "id": "3a18128e-ffcd-4f2d-af84-8943e3e1f354",
   "metadata": {},
   "outputs": [],
   "source": [
    "functional_unit = {\n",
    "    \"kettle\": {eit.get(kettle['code']).id: 1},\n",
    "}\n",
    "multi_config = {\n",
    "    \"impact_categories\": methods\n",
    "}\n",
    "multi_data_objs = bd.get_multilca_data_objs(functional_units=functional_unit, method_config=multi_config)"
   ]
  },
  {
   "cell_type": "code",
   "execution_count": 42,
   "id": "37ca53c8",
   "metadata": {},
   "outputs": [
    {
     "name": "stdout",
     "output_type": "stream",
     "text": [
      "2.5236564213757333\n",
      "2.472626691604546\n",
      "2.368170106162154\n",
      "2.2370824295463194\n",
      "2.0936833566366317\n",
      "1.947904506354405\n",
      "1.8095863490083275\n",
      "1.6778329570721837\n",
      "1.557096843892026\n",
      "1.4558030602330518\n",
      "1.3771977083479214\n",
      "1.31618169802519\n",
      "1.2633572217803248\n",
      "1.2175558700563158\n",
      "1.1142851803851386\n",
      "1.062684394917781\n",
      "1.1058022323516496\n",
      "1.147370130310705\n",
      "1.2353704671024843\n",
      "1.304188082694992\n",
      "1.482935881836113\n",
      "1.256014664055101\n",
      "1.489631449635766\n",
      "1.623321956120293\n",
      "1.4864305086292404\n",
      "1.3204276812822116\n",
      "1.1413500535889085\n",
      "0.93937835899645\n",
      "0.599578121055643\n",
      "0.43782575178423144\n",
      "0.2931844348107049\n",
      "0.6814160130509208\n",
      "0.7781114042776238\n",
      "0.952124156910898\n",
      "1.1536533952092896\n",
      "1.2968888962884648\n",
      "1.172539332670624\n",
      "1.1466250385928447\n",
      "1.1123016654100866\n",
      "1.0719898146091538\n",
      "1.1810723298290213\n",
      "1.1547508272590363\n"
     ]
    }
   ],
   "source": [
    "for value in np.array(secondary_steel_share):\n",
    "    materials = update_material_composition(value)\n",
    "    primary_input = list(kettle_production.technosphere())[0]\n",
    "    secondary_input = list(kettle_production.technosphere())[1]\n",
    "    \n",
    "    primary_input['amount'] = materials['slt1']\n",
    "    primary_input.save()\n",
    "\n",
    "    secondary_input['amount'] = materials['slt2']\n",
    "    secondary_input.save()\n",
    "    \n",
    "    \n",
    "    lca = bc.LCA(demand=functional_unit, data_objs=data_objs)\n",
    "    lca.lci()\n",
    "    print(lca.inventory[lca.dicts.biosphere[co2.id], :].sum())\n",
    "    \n",
    "    # this should replace the above one but not sure if it will work, need to test above\n",
    "    mlca = bc.MultiLCA(demands=functional_unit, method_config=multi_config, data_objs=multi_data_objs)\n",
    "    mlca.lci()\n",
    "    mlca.lcia()\n",
    "    mlca.scores"
   ]
  },
  {
   "cell_type": "code",
   "execution_count": 43,
   "id": "9afd7649-d665-4f32-9df5-d5537d5240bd",
   "metadata": {},
   "outputs": [
    {
     "data": {
      "text/plain": [
       "1.1547508272590363"
      ]
     },
     "execution_count": 43,
     "metadata": {},
     "output_type": "execute_result"
    }
   ],
   "source": [
    "    \n",
    "    primary_input['amount'] = materials['slt1']\n",
    "    primary_input.save()\n",
    "\n",
    "    secondary_input['amount'] = materials['slt2']\n",
    "    secondary_input.save()\n",
    "\n",
    "    functional_unit, data_objs, _ = bd.prepare_lca_inputs({kettle: 1}, remapping=False)\n",
    "    lca = bc.LCA(demand=functional_unit, data_objs=data_objs)\n",
    "    lca.lci()\n",
    "    lca.inventory[lca.dicts.biosphere[co2.id], :].sum()\n",
    "    lca.inventory[lca.dicts.biosphere[co2.id], :].sum()"
   ]
  },
  {
   "cell_type": "code",
   "execution_count": 44,
   "id": "3069715b-e66f-4c4c-8fd4-9fa4e6a374e5",
   "metadata": {},
   "outputs": [
    {
     "data": {
      "text/plain": [
       "{0: 0.0,\n",
       " 1: 0.020220549836779397,\n",
       " 2: 0.06161149056516167,\n",
       " 3: 0.11355509467297879,\n",
       " 4: 0.170377011437841,\n",
       " 5: 0.22814196375824192,\n",
       " 6: 0.2829506206772885,\n",
       " 7: 0.335157941012714,\n",
       " 8: 0.3829996852411873,\n",
       " 9: 0.42313738081124247,\n",
       " 10: 0.4542848107441111,\n",
       " 11: 0.4784623873663422,\n",
       " 12: 0.4993941220440544,\n",
       " 13: 0.5175429585542917,\n",
       " 14: 0.5584639861656617,\n",
       " 15: 0.578910841440185,\n",
       " 16: 0.561825376954089,\n",
       " 17: 0.5453540790036875,\n",
       " 18: 0.5104838887942497,\n",
       " 19: 0.4832148924417496,\n",
       " 20: 0.41238601935039126,\n",
       " 21: 0.5023036343278511,\n",
       " 22: 0.4097328453610008,\n",
       " 23: 0.3567579367381307,\n",
       " 24: 0.41100125670173093,\n",
       " 25: 0.4767799601937566,\n",
       " 26: 0.5477395355049691,\n",
       " 27: 0.6277708933222904,\n",
       " 28: 0.762416888980877,\n",
       " 29: 0.8265113450552737,\n",
       " 30: 0.8838255311127807,\n",
       " 31: 0.7299886124713949,\n",
       " 32: 0.6916730142226925,\n",
       " 33: 0.6227203861871833,\n",
       " 34: 0.5428643128657764,\n",
       " 35: 0.48610717539442433,\n",
       " 36: 0.535380772415173,\n",
       " 37: 0.5456493039418815,\n",
       " 38: 0.5592499659525586,\n",
       " 39: 0.5752235489911421,\n",
       " 40: 0.5319995456918084,\n",
       " 41: 0.5424294610934609}"
      ]
     },
     "execution_count": 44,
     "metadata": {},
     "output_type": "execute_result"
    }
   ],
   "source": [
    "secondary_steel_share_dict"
   ]
  },
  {
   "cell_type": "code",
   "execution_count": 45,
   "id": "0f5a0c4b-41ea-44d6-bbb4-3fa978fd3fef",
   "metadata": {},
   "outputs": [
    {
     "data": {
      "text/plain": [
       "1.1547508272590363"
      ]
     },
     "execution_count": 45,
     "metadata": {},
     "output_type": "execute_result"
    }
   ],
   "source": [
    "my_edge['<some_key>'] = \"<some_new_value>\"\n",
    "my_edge.save()\n",
    "\n",
    "\n",
    "lca = bc.LCA(demand=functional_unit, data_objs=data_objs)\n",
    "lca.lci()\n",
    "lca.inventory[lca.dicts.biosphere[co2.id], :].sum()"
   ]
  },
  {
   "cell_type": "code",
   "execution_count": 46,
   "id": "beab049d-b604-4beb-8966-10b4d064f0e6",
   "metadata": {},
   "outputs": [
    {
     "data": {
      "text/plain": [
       "Exchange: 0.24994607659554136 kilogram 'steel' (kilogram, GLO, None) to 'kettle production' (None, RER, None)>"
      ]
     },
     "execution_count": 46,
     "metadata": {},
     "output_type": "execute_result"
    }
   ],
   "source": [
    "primary_input = list(kettle_production.technosphere())[0]\n",
    "primary_input"
   ]
  },
  {
   "cell_type": "code",
   "execution_count": 47,
   "id": "50a20a76-fd77-4b4e-8958-c6f1f873fa3b",
   "metadata": {},
   "outputs": [
    {
     "data": {
      "text/plain": [
       "Exchange: 0.29629992340445865 kilogram 'steel2' (kilogram, GLO, None) to 'kettle production' (None, RER, None)>"
      ]
     },
     "execution_count": 47,
     "metadata": {},
     "output_type": "execute_result"
    }
   ],
   "source": [
    "secondary_input = list(kettle_production.technosphere())[1]\n",
    "secondary_input"
   ]
  },
  {
   "cell_type": "code",
   "execution_count": 48,
   "id": "71ccfb14-f79e-4af7-8348-477011b05e52",
   "metadata": {},
   "outputs": [
    {
     "data": {
      "text/plain": [
       "Exchange: 0.5 kilogram 'steel' (kilogram, GLO, None) to 'kettle production' (None, RER, None)>"
      ]
     },
     "execution_count": 48,
     "metadata": {},
     "output_type": "execute_result"
    }
   ],
   "source": [
    "primary_input['amount'] = 0.5\n",
    "primary_input.save()\n",
    "primary_input"
   ]
  },
  {
   "cell_type": "code",
   "execution_count": 49,
   "id": "6b0cec50-7be3-4eab-9956-3c4fe880b7e9",
   "metadata": {},
   "outputs": [
    {
     "data": {
      "text/plain": [
       "Exchange: 0.1 kilogram 'steel2' (kilogram, GLO, None) to 'kettle production' (None, RER, None)>"
      ]
     },
     "execution_count": 49,
     "metadata": {},
     "output_type": "execute_result"
    }
   ],
   "source": [
    "secondary_input['amount'] = 0.1\n",
    "secondary_input.save()\n",
    "secondary_input"
   ]
  },
  {
   "cell_type": "code",
   "execution_count": 50,
   "id": "44c5b9e7-a207-47ce-a7fd-cce0e6d081c8",
   "metadata": {},
   "outputs": [
    {
     "data": {
      "text/plain": [
       "[Exchange: 0.5 kilogram 'steel' (kilogram, GLO, None) to 'kettle production' (None, RER, None)>,\n",
       " Exchange: 0.1 kilogram 'steel2' (kilogram, GLO, None) to 'kettle production' (None, RER, None)>]"
      ]
     },
     "execution_count": 50,
     "metadata": {},
     "output_type": "execute_result"
    }
   ],
   "source": [
    "list(kettle_production.technosphere())"
   ]
  }
 ],
 "metadata": {
  "kernelspec": {
   "display_name": "Python [conda env:bw25]",
   "language": "python",
   "name": "conda-env-bw25-py"
  },
  "language_info": {
   "codemirror_mode": {
    "name": "ipython",
    "version": 3
   },
   "file_extension": ".py",
   "mimetype": "text/x-python",
   "name": "python",
   "nbconvert_exporter": "python",
   "pygments_lexer": "ipython3",
   "version": "3.12.11"
  }
 },
 "nbformat": 4,
 "nbformat_minor": 5
}
