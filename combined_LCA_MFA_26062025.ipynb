{
 "cells": [
  {
   "cell_type": "markdown",
   "id": "10842f16-7629-4118-ad74-c89aaaf019ae",
   "metadata": {},
   "source": [
    "# Dynamic scaLCA - combining dynamic material flow analysis with Life cycle assessment"
   ]
  },
  {
   "cell_type": "markdown",
   "id": "44c69af4-6908-4ffa-a0b6-24e41bdd8479",
   "metadata": {},
   "source": [
    "## 1. Modules and Functions"
   ]
  },
  {
   "cell_type": "markdown",
   "id": "61d1f2d1-e950-4f87-805e-c05c2941f6ca",
   "metadata": {},
   "source": [
    "### 1.1 Modules"
   ]
  },
  {
   "cell_type": "code",
   "execution_count": 1,
   "id": "896dfba6",
   "metadata": {},
   "outputs": [],
   "source": [
    "import bw2data as bd\n",
    "import bw2io as bi\n",
    "from pathlib import Path\n",
    "import bw2data as bd\n",
    "import bw2calc as bc\n",
    "import bw_processing as bwp\n",
    "import pandas as pd\n",
    "import numpy as np\n",
    "import scipy.stats\n",
    "from os import chdir\n",
    "import matplotlib.pyplot as plt\n",
    "from dataclasses import dataclass\n",
    "\n",
    "import warnings\n",
    "warnings.filterwarnings(\"ignore\", category=UserWarning, module=\"openpyxl\")"
   ]
  },
  {
   "cell_type": "markdown",
   "id": "0c7fbc1b-ab9a-4d65-8bfd-559f5a4ba5d6",
   "metadata": {},
   "source": [
    "### 1.2 Classes"
   ]
  },
  {
   "cell_type": "code",
   "execution_count": 2,
   "id": "c2c8456e-9b88-4e33-9ff7-4d129fc7d52b",
   "metadata": {},
   "outputs": [],
   "source": [
    "@dataclass\n",
    "class DataArray:\n",
    "    product: bd.Node\n",
    "    process: bd.Node\n",
    "    array: np.ndarray\n",
    "    consumption: bool = True"
   ]
  },
  {
   "cell_type": "markdown",
   "id": "0083e46f-7fdf-4e98-b76e-9e6e7fa95a9d",
   "metadata": {},
   "source": [
    "### 1.3 Functions"
   ]
  },
  {
   "cell_type": "code",
   "execution_count": 3,
   "id": "4df46604-4ece-440e-a92a-e86bbccd7145",
   "metadata": {},
   "outputs": [],
   "source": [
    "def multiply_column_by_value(column, value):\n",
    "    \"\"\"\n",
    "    Multiply each element in a pandas Series or array-like column by a specified value.\n",
    "\n",
    "    Parameters\n",
    "    ----------\n",
    "    column : pandas.Series or array-like\n",
    "        The input column of numeric values to be multiplied.\n",
    "    \n",
    "    value : float\n",
    "        The numeric value to multiply each element of the column by.\n",
    "\n",
    "    Returns\n",
    "    -------\n",
    "    numpy.ndarray\n",
    "        A numpy array containing the multiplied values.\n",
    "    \"\"\"\n",
    "    new_column = column * value\n",
    "    return new_column.values\n",
    "\n",
    "\n",
    "def calculate_remaining_fraction_column(column):\n",
    "    \"\"\"\n",
    "    Calculate the complementary fraction (1 minus each element) for a pandas Series or array-like column.\n",
    "\n",
    "    Parameters\n",
    "    ----------\n",
    "    column : pandas.Series or array-like\n",
    "        The input column of numeric values, typically between 0 and 1.\n",
    "\n",
    "    Returns\n",
    "    -------\n",
    "    numpy.ndarray\n",
    "        A numpy array containing the complementary fractions.\n",
    "    \"\"\"\n",
    "    new_column = 1 - column\n",
    "    return new_column.values\n",
    "    \n",
    "\n",
    "def data_obj_for_arrays(arrays: list[DataArray]) -> bwp.Datapackage:\n",
    "    \"\"\"\n",
    "    Create a Brightway2-Py (bwp) Datapackage object from a list of DataArray objects.\n",
    "\n",
    "    This function takes a list of `DataArray` objects, extracts their data arrays,\n",
    "    index pairs (product, process), and consumption flags, and compiles them into\n",
    "    a `bwp.Datapackage` object with a `technosphere_matrix`.\n",
    "\n",
    "    Parameters\n",
    "    ----------\n",
    "    arrays : list of DataArray\n",
    "        A list of `DataArray` objects, each of which must contain:\n",
    "        - `.array` (numerical data)\n",
    "        - `.product.id` and `.process.id` (index pair)\n",
    "        - `.consumption` (boolean indicating direction)\n",
    "\n",
    "    Returns\n",
    "    -------\n",
    "    bwp.Datapackage\n",
    "        A datapackage object containing the technosphere matrix populated from the input arrays.\n",
    "\n",
    "    Raises\n",
    "    ------\n",
    "    AssertionError\n",
    "        If any item in the input list is not a `DataArray` instance.\n",
    "\n",
    "    Notes\n",
    "    -----\n",
    "    - The function vertically stacks the `.array` attributes of all DataArrays.\n",
    "    - It creates the corresponding `indices_array` with `product.id` and `process.id`.\n",
    "    - It flips the sign of data if `dc.consumption` is True (handled by `flip_array`).\n",
    "    \"\"\"\n",
    "    # Validate input types\n",
    "    for dc in arrays:\n",
    "        assert isinstance(dc, DataArray), \"Oops, wrong input type\"\n",
    "\n",
    "    # Stack the data arrays into a single array\n",
    "    data_array = np.vstack([dc.array for dc in arrays])\n",
    "\n",
    "    # Extract (product, process) ID tuples\n",
    "    indices_array = np.array(\n",
    "        [(dc.product.id, dc.process.id) for dc in arrays], \n",
    "        dtype=bwp.INDICES_DTYPE\n",
    "    )\n",
    "\n",
    "    # Create a boolean array to determine whether to flip signs\n",
    "    flip_array = np.array([not dc.consumption for dc in arrays])\n",
    "\n",
    "    # Create a new datapackage\n",
    "    dp = bwp.create_datapackage(sequential=True)\n",
    "\n",
    "    # Add the data to the technosphere matrix of the datapackage\n",
    "    dp.add_persistent_array(\n",
    "        matrix=\"technosphere_matrix\",\n",
    "        indices_array=indices_array,\n",
    "        data_array=data_array,\n",
    "        flip_array=flip_array,\n",
    "    )\n",
    "\n",
    "    return dp\n",
    "\n",
    "\n"
   ]
  },
  {
   "cell_type": "markdown",
   "id": "0e4b886b-a724-491a-94e3-8486080dcb50",
   "metadata": {},
   "source": [
    "## 2. Life cycle assessment"
   ]
  },
  {
   "cell_type": "markdown",
   "id": "d5e0f3de-0159-4aaf-8db8-99aa7e1e15c3",
   "metadata": {},
   "source": [
    "### 2.1 Project set-up in Brightway"
   ]
  },
  {
   "cell_type": "code",
   "execution_count": 4,
   "id": "6c95b912-51cf-4326-a249-10f4122b5de7",
   "metadata": {},
   "outputs": [
    {
     "name": "stdout",
     "output_type": "stream",
     "text": [
      "Restoring project backup archive - this could take a few minutes...\n",
      "Restored project: Linking dMFA & LCA\n",
      "\u001b[2m12:16:59+0000\u001b[0m [\u001b[32m\u001b[1minfo     \u001b[0m] \u001b[1mApplying automatic update: 4.0 database search directories FTS5\u001b[0m\n",
      "\u001b[2m12:16:59+0000\u001b[0m [\u001b[32m\u001b[1minfo     \u001b[0m] \u001b[1mReindexing database ecoinvent-3.10-biosphere\u001b[0m\n",
      "\u001b[2m12:16:59+0000\u001b[0m [\u001b[32m\u001b[1minfo     \u001b[0m] \u001b[1mReindexing database ecoinvent-3.10-cutoff\u001b[0m\n"
     ]
    },
    {
     "data": {
      "text/plain": [
       "'make our own database'"
      ]
     },
     "execution_count": 4,
     "metadata": {},
     "output_type": "execute_result"
    }
   ],
   "source": [
    "# Create project name\n",
    "PROJECT_NAME = \"Linking dMFA & LCA\"\n",
    "\n",
    "#Load Ecoinvent database\n",
    "bi.restore_project_directory(\n",
    "    fp='/etc/data/ecoinvent-3.10-cutoff-bw25.tar.gz',\n",
    "    project_name=PROJECT_NAME,\n",
    "    overwrite_existing=True\n",
    ")\n",
    "#Define project in brightway\n",
    "bd.projects.set_current(PROJECT_NAME)\n",
    "\n",
    "#Define database\n",
    "db=bd.Database('ecoinvent-3.10-cutoff')\n",
    "\n",
    "\n",
    "\"\"\"make our own database\"\"\""
   ]
  },
  {
   "cell_type": "markdown",
   "id": "b9f5f1af-656c-4b22-9958-2fcc77bb38d9",
   "metadata": {},
   "source": [
    "### 2.2 Primary & Secondary steel production"
   ]
  },
  {
   "cell_type": "code",
   "execution_count": 5,
   "id": "36ae9a19",
   "metadata": {},
   "outputs": [],
   "source": [
    "# selecting ecoinvent processes\n",
    "primary_steel_production = bd.get_node(\n",
    "    name='steel production, electric, chromium steel 18/8',\n",
    "    location = 'RER').copy(name = 'primary steel production', database=db.name)\n",
    "\n",
    "secondary_steel_production = bd.get_node(\n",
    "    name='steel production, electric, chromium steel 18/8',\n",
    "    location = 'RER').copy(name = 'secondary steel production', database=db.name)\n",
    "\n",
    "ecoinvent_steel_scrap = bd.get_node(name='market for scrap steel', location = 'Europe without Switzerland')\n",
    "\n",
    "ecoinvent_iron_ore = bd.get_node(name='market for iron ore concentrate', location = 'GLO')"
   ]
  },
  {
   "cell_type": "code",
   "execution_count": 6,
   "id": "5855435f-f666-4ae5-bfad-42685a03256f",
   "metadata": {},
   "outputs": [
    {
     "name": "stdout",
     "output_type": "stream",
     "text": [
      "[Exchange: 1 kilogram 'primary steel' (kilogram, RER, None) to 'primary steel production' (kilogram, RER, None)>]\n"
     ]
    }
   ],
   "source": [
    "### creating new output product for recycling process\n",
    "primary_steel = db.new_node(\n",
    "    name='primary steel',\n",
    "    code = 'primary steel',\n",
    "    unit=\"kilogram\",\n",
    "    location = \"RER\",\n",
    "    type=bd.labels.product_node_default,\n",
    ")\n",
    "primary_steel.save()\n",
    "\n",
    "#deleting old output in primary production\n",
    "for exc in primary_steel_production.production():\n",
    "    exc.delete()\n",
    "\n",
    "#adding the secondary steel output\n",
    "primary_steel_production.new_edge(\n",
    "    input=primary_steel,\n",
    "    amount=1,\n",
    "    type=bd.labels.production_edge_default\n",
    ").save()\n",
    "\n",
    "#checking that the output was replaced\n",
    "print(list(primary_steel_production.production()))\n",
    "\n",
    "#changing material inputs in primary steel production (replace iron scrap with iron ore)\n",
    "iron_scrap_input_primary = list(primary_steel_production.edges())[13]\n",
    "iron_ore_amount = iron_scrap_input_primary['amount']\n",
    "iron_scrap_input_primary.delete() #new inflow is added in cell below\n",
    "iron_scrap_input_primary.save()\n",
    "\n",
    "#adding iron ore as inflow for primary steel production\n",
    "primary_steel_production.new_edge(\n",
    "    amount = iron_ore_amount, #calculated in cell above\n",
    "    type=bd.labels.consumption_edge_default,\n",
    "    input=ecoinvent_iron_ore\n",
    ").save()"
   ]
  },
  {
   "cell_type": "code",
   "execution_count": 7,
   "id": "1d8d0485-0a04-49ec-9c98-58dac22705fe",
   "metadata": {},
   "outputs": [],
   "source": [
    "### creating new output product for recycling process\n",
    "secondary_steel = db.new_node(\n",
    "    name='secondary steel',\n",
    "    code = 'secondary steel',\n",
    "    unit=\"kilogram\",\n",
    "    location = \"RER\",\n",
    "    type=bd.labels.product_node_default,\n",
    ")\n",
    "secondary_steel.save()"
   ]
  },
  {
   "cell_type": "code",
   "execution_count": 8,
   "id": "90b50ecd-67fc-4ee6-88e1-841e1239dcba",
   "metadata": {},
   "outputs": [
    {
     "data": {
      "text/plain": [
       "[Exchange: 1 kilogram 'secondary steel' (kilogram, RER, None) to 'secondary steel production' (kilogram, RER, None)>]"
      ]
     },
     "execution_count": 8,
     "metadata": {},
     "output_type": "execute_result"
    }
   ],
   "source": [
    "#deleting old output\n",
    "for exc in secondary_steel_production.production():\n",
    "    exc.delete()\n",
    "\n",
    "#adding the secondary steel output\n",
    "secondary_steel_production.new_edge(\n",
    "    input=secondary_steel,\n",
    "    amount=1,\n",
    "    type=bd.labels.production_edge_default\n",
    ").save()\n",
    "\n",
    "#checking that the output was replaced\n",
    "list(secondary_steel_production.production())"
   ]
  },
  {
   "cell_type": "code",
   "execution_count": 9,
   "id": "c4dd158d-2639-4a4c-9513-3714621bd7e4",
   "metadata": {},
   "outputs": [],
   "source": [
    "#reducing the iron, nickel & chromium inflows to 40%\n",
    "chromium_input = list(secondary_steel_production.edges())[9]\n",
    "nickel_input = list(secondary_steel_production.edges())[10]\n",
    "iron_scrap_input = list(secondary_steel_production.edges())[13]\n",
    "\n",
    "steel_scrap_amount = (nickel_input['amount'] + chromium_input['amount'] + iron_scrap_input['amount']) * 0.6\n",
    "\n",
    "nickel_input['amount'] = nickel_input['amount'] * 0.4\n",
    "chromium_input['amount'] = chromium_input['amount'] * 0.4\n",
    "iron_scrap_input['amount'] = iron_scrap_input['amount'] * 0.4\n",
    "\n",
    "chromium_input.save()\n",
    "nickel_input.save()\n",
    "iron_scrap_input.save()"
   ]
  },
  {
   "cell_type": "code",
   "execution_count": 10,
   "id": "2c8e8f5c-5305-4bb8-87fe-6c52213172c1",
   "metadata": {},
   "outputs": [],
   "source": [
    "#adding 60% of raw material inputs as scrap metal\n",
    "secondary_steel_production.new_edge(\n",
    "    amount = steel_scrap_amount, #calculated in cell above\n",
    "    type=bd.labels.consumption_edge_default,\n",
    "    input=ecoinvent_steel_scrap\n",
    ").save()"
   ]
  },
  {
   "cell_type": "code",
   "execution_count": 11,
   "id": "3bc555b8-f0b1-40f7-9e74-c4c9656f3801",
   "metadata": {},
   "outputs": [
    {
     "data": {
      "text/plain": [
       "[Exchange: 1 kilogram 'secondary steel' (kilogram, RER, None) to 'secondary steel production' (kilogram, RER, None)>]"
      ]
     },
     "execution_count": 11,
     "metadata": {},
     "output_type": "execute_result"
    }
   ],
   "source": [
    "list(secondary_steel_production.production())"
   ]
  },
  {
   "cell_type": "markdown",
   "id": "15f7d280-4937-4f7c-9faa-34e2d8f0a22c",
   "metadata": {},
   "source": [
    "### 2.3 Kettle production"
   ]
  },
  {
   "cell_type": "markdown",
   "id": "e919265a-9817-4806-937a-dcbc0e6de0e9",
   "metadata": {},
   "source": [
    "#### 2.3.1 Product and process definition"
   ]
  },
  {
   "cell_type": "code",
   "execution_count": 12,
   "id": "dc0cdb55",
   "metadata": {},
   "outputs": [],
   "source": [
    "ecoinvent_kettle_process = bd.get_node(name='electric kettle production', location = 'GLO')\n",
    "kettle_production = ecoinvent_kettle_process.copy(name='kettle production')"
   ]
  },
  {
   "cell_type": "code",
   "execution_count": 13,
   "id": "0ba4d6d7-12ed-45e5-8d2c-54de829f840f",
   "metadata": {},
   "outputs": [
    {
     "name": "stdout",
     "output_type": "stream",
     "text": [
      "Deleting: market for chromium, amount=0.017734, location=GLO\n",
      "Deleting: market for nickel, class 1, amount=0.070938, location=GLO\n",
      "Deleting: market for steel, low-alloyed, hot rolled, amount=0.547818, location=GLO\n"
     ]
    }
   ],
   "source": [
    "delete_targets = {\n",
    "    'market for chromium',\n",
    "    'market for nickel, class 1',\n",
    "    'market for steel, low-alloyed, hot rolled', \n",
    "}\n",
    "\n",
    "for exc in kettle_production.edges():\n",
    "    input_name = exc.input['name']\n",
    "    \n",
    "    if input_name in delete_targets and \"waste\" not in input_name.lower():\n",
    "        print(f\"Deleting: {input_name}, amount={exc['amount']}, location={exc.input['location']}\")\n",
    "        exc.delete()"
   ]
  },
  {
   "cell_type": "markdown",
   "id": "1bc32524-56d3-49d7-9056-2bd09b0a12a7",
   "metadata": {},
   "source": [
    "#### 2.3.2 Technosphere flows kettle production"
   ]
  },
  {
   "cell_type": "code",
   "execution_count": 14,
   "id": "cd5a3d7e-e654-4ca2-864e-37461bf86850",
   "metadata": {},
   "outputs": [],
   "source": [
    "kettle = db.new_node(\n",
    "    name='kettle',\n",
    "    unit=\"number\",\n",
    "    location = \"IE\",\n",
    "    type=bd.labels.product_node_default,\n",
    ")\n",
    "kettle.save()"
   ]
  },
  {
   "cell_type": "code",
   "execution_count": 15,
   "id": "f5887ebe-9e57-4338-82bb-260ddc2f3a06",
   "metadata": {},
   "outputs": [
    {
     "data": {
      "text/plain": [
       "[Exchange: 1 number 'kettle' (number, IE, None) to 'kettle production' (unit, GLO, None)>]"
      ]
     },
     "execution_count": 15,
     "metadata": {},
     "output_type": "execute_result"
    }
   ],
   "source": [
    "#deleting old output\n",
    "for exc in kettle_production.production():\n",
    "    exc.delete()\n",
    "\n",
    "#adding the secondary steel output\n",
    "kettle_production.new_edge(\n",
    "    input=kettle,\n",
    "    amount=1,\n",
    "    type=bd.labels.production_edge_default\n",
    ").save()\n",
    "\n",
    "#checking that the output was replaced\n",
    "list(kettle_production.production())"
   ]
  },
  {
   "cell_type": "code",
   "execution_count": 16,
   "id": "7fc2bab7-7322-43c2-b873-bfb00265c54d",
   "metadata": {},
   "outputs": [],
   "source": [
    "kettle_production.new_edge(\n",
    "    amount=42, # Dummy value \n",
    "    type=bd.labels.consumption_edge_default,\n",
    "    input=secondary_steel\n",
    ").save()\n",
    "\n",
    "kettle_production.new_edge(\n",
    "    amount=42, # Dummy value \n",
    "    type=bd.labels.consumption_edge_default,\n",
    "    input=primary_steel\n",
    ").save()"
   ]
  },
  {
   "cell_type": "markdown",
   "id": "f8b255ad-937e-45de-9c51-46ff309ec5d4",
   "metadata": {},
   "source": [
    "### 2.4 Use phase"
   ]
  },
  {
   "cell_type": "code",
   "execution_count": 17,
   "id": "52324304-8c6f-4d97-bb0e-3114c0c8c0f2",
   "metadata": {},
   "outputs": [],
   "source": [
    "kettle_service = db.new_node(\n",
    "    name='kettle service per year',\n",
    "    unit='kWh per year',\n",
    "    type=bd.labels.product_node_default,\n",
    ")\n",
    "\n",
    "using_kettle = db.new_node(\n",
    "    name='using kettle',\n",
    "    location='IE',\n",
    "    type=bd.labels.process_node_default,\n",
    ")\n",
    "\n",
    "kettle_service.save()\n",
    "using_kettle.save()"
   ]
  },
  {
   "cell_type": "code",
   "execution_count": 18,
   "id": "1b973c00-920e-4c12-8738-b86f63335fe0",
   "metadata": {},
   "outputs": [],
   "source": [
    "using_kettle.new_edge(\n",
    "    amount=1,\n",
    "    input=kettle_service,\n",
    "    type=bd.labels.production_edge_default,\n",
    ").save()"
   ]
  },
  {
   "cell_type": "code",
   "execution_count": 19,
   "id": "2d72e36a-e3cc-4ca3-9042-84b079d99d36",
   "metadata": {},
   "outputs": [],
   "source": [
    "electric_mix_IE = bd.get_node(\n",
    "    name='market for electricity, medium voltage', \n",
    "    location='IE',\n",
    ")"
   ]
  },
  {
   "cell_type": "code",
   "execution_count": 20,
   "id": "0120fe46-61c2-4cc2-a506-fe8fc45a6947",
   "metadata": {},
   "outputs": [],
   "source": [
    "using_kettle.new_edge(\n",
    "    amount=167, #value is average yearly energy used per kettle Durand et al. 2022\n",
    "    type=bd.labels.consumption_edge_default,\n",
    "    input=electric_mix_IE\n",
    ").save()"
   ]
  },
  {
   "cell_type": "markdown",
   "id": "b10f5702-4a32-4114-9d65-3b1955a60bc3",
   "metadata": {},
   "source": [
    "### 2.5 End of Life"
   ]
  },
  {
   "cell_type": "code",
   "execution_count": 21,
   "id": "2ed69904-1c84-4e67-be43-8d6a47c4db10",
   "metadata": {},
   "outputs": [],
   "source": [
    "kettle_treated = db.new_node(\n",
    "    name='kettle waste treated',\n",
    "    unit='number',\n",
    "    type=bd.labels.product_node_default,\n",
    ")\n",
    "\n",
    "treating_kettle = db.new_node(\n",
    "    name='kettle waste treatment',\n",
    "    location='IE',\n",
    "    type=bd.labels.process_node_default,\n",
    ")\n",
    "\n",
    "kettle_treated.save()\n",
    "treating_kettle.save()"
   ]
  },
  {
   "cell_type": "code",
   "execution_count": 22,
   "id": "4d6ae865-5197-4276-a2ca-739829680846",
   "metadata": {},
   "outputs": [],
   "source": [
    "treating_kettle.new_edge(\n",
    "    amount=1,\n",
    "    input=kettle_treated,\n",
    "    type=bd.labels.production_edge_default,\n",
    ").save()"
   ]
  },
  {
   "cell_type": "code",
   "execution_count": 23,
   "id": "54408f34-5222-48eb-ac02-bc442b490064",
   "metadata": {},
   "outputs": [],
   "source": [
    "waste_metal = bd.get_node(\n",
    "    name='market for metal part of electronics scrap, in copper, anode', \n",
    ")\n",
    "\n",
    "waste_plastic = bd.get_node(\n",
    "    name='market for waste plastic, mixture',\n",
    "    location='IE',\n",
    ")"
   ]
  },
  {
   "cell_type": "code",
   "execution_count": 24,
   "id": "de841f00-b68a-42ce-b62b-8218a0b42895",
   "metadata": {},
   "outputs": [],
   "source": [
    "treating_kettle.new_edge(\n",
    "    amount=-27.349,\n",
    "    type=bd.labels.consumption_edge_default,\n",
    "    input=waste_metal\n",
    ").save()\n",
    "\n",
    "treating_kettle.new_edge(\n",
    "    amount=-839.726,\n",
    "    type=bd.labels.consumption_edge_default,\n",
    "    input=waste_plastic\n",
    ").save()"
   ]
  },
  {
   "cell_type": "markdown",
   "id": "24987aa7-fa31-4452-9f68-208bb9c09159",
   "metadata": {},
   "source": [
    "## 3. Dynamic material flow analysis"
   ]
  },
  {
   "cell_type": "markdown",
   "id": "84143d17-5b20-42ac-8f10-d914f821b92c",
   "metadata": {},
   "source": [
    "### 3.1 Load and organise data"
   ]
  },
  {
   "cell_type": "code",
   "execution_count": 25,
   "id": "259e4065",
   "metadata": {},
   "outputs": [],
   "source": [
    "# Load input data, inflow-driven model, Timeseries represents Irish purchases of 'hot water electronics' from 1980-2022\n",
    "stock_flow_timeseries = pd.read_excel(r'WEEE_generated_Tool_IE.xlsm', sheet_name='POM')\n",
    "\n",
    "# Extract the relevant rows and columns\n",
    "stock_flow_timeseries = stock_flow_timeseries.iloc[20,6:-9]\n",
    "stock_flow_timeseries = stock_flow_timeseries.to_frame()\n",
    "\n",
    "#Define timesteps that are covered in the dataset\n",
    "timesteps = range(1980,2023)\n",
    "\n",
    "#Define timeseries dataset including the associated yeart\n",
    "stock_flow_timeseries['year'] = timesteps\n",
    "stock_flow_timeseries = stock_flow_timeseries.iloc[1:,:]\n",
    "stock_flow_timeseries = stock_flow_timeseries.set_index('year')\n",
    "stock_flow_timeseries = stock_flow_timeseries.rename(columns={20:'inflow'})"
   ]
  },
  {
   "cell_type": "markdown",
   "id": "69932659-87e9-4a99-b0ba-f4ccc5b6c4ee",
   "metadata": {},
   "source": [
    "### 3.2 Define Lifetime curve"
   ]
  },
  {
   "cell_type": "code",
   "execution_count": 26,
   "id": "8938b623",
   "metadata": {},
   "outputs": [
    {
     "data": {
      "image/png": "[encoded data removed]",
      "text/plain": [
       "<Figure size 640x480 with 1 Axes>"
      ]
     },
     "metadata": {},
     "output_type": "display_data"
    }
   ],
   "source": [
    "#Define timesteps\n",
    "time_max = stock_flow_timeseries.shape[0]\n",
    "timesteps = np.arange(0, time_max)\n",
    "\n",
    "# Weibull distributed survival curve representative for the Netherlands, Belgium and France (no data available for Ireland)\n",
    "curve_shape = 1.73\n",
    "curve_scale = 7.8\n",
    "curve_surv = scipy.stats.weibull_min.sf(timesteps, curve_shape, 0, curve_scale)\n",
    "\n",
    "#Visualise the result\n",
    "plt.plot(curve_surv)\n",
    "\n",
    "#Define data as float to align with later usage\n",
    "curve_surv = curve_surv.astype(float)"
   ]
  },
  {
   "cell_type": "markdown",
   "id": "c9ac8714-5d9c-48cc-b56f-39a6c6a51881",
   "metadata": {},
   "source": [
    "### 3.3 Initiate normalized survival curve matrix"
   ]
  },
  {
   "cell_type": "code",
   "execution_count": 27,
   "id": "9f8b3393",
   "metadata": {},
   "outputs": [],
   "source": [
    "# create survival curve matrix with placeholder zeros\n",
    "curve_surv_matrix = pd.DataFrame(0.0, index=timesteps, columns=timesteps)\n",
    "\n",
    "# populate the survival curve matrix with shifted curves, column by column using slices\n",
    "for time in timesteps:\n",
    "    curve_surv_matrix.loc[time:, time] = curve_surv[0:time_max - time]"
   ]
  },
  {
   "cell_type": "markdown",
   "id": "27535fca-de29-4f7b-8a75-128cb1f07e6e",
   "metadata": {},
   "source": [
    "### 3.4 Populate survival curve matrix with inflow values"
   ]
  },
  {
   "cell_type": "code",
   "execution_count": 28,
   "id": "a945bb81",
   "metadata": {},
   "outputs": [],
   "source": [
    "# create survival matrix with placeholder zeros\n",
    "cohort_surv_matrix = pd.DataFrame(0.0, index=timesteps, columns=timesteps)\n",
    "\n",
    "# multiply the inflow times the shifted curves to get the cohorts' behavior over time\n",
    "\n",
    "for time in timesteps:\n",
    "    cohort_surv_matrix.loc[:, time] = curve_surv_matrix.loc[:, time] * stock_flow_timeseries['inflow'].iloc[time]\n",
    "\n",
    "# set row index to years instead of timesteps\n",
    "cohort_surv_matrix.index = stock_flow_timeseries.index\n",
    "\n"
   ]
  },
  {
   "cell_type": "markdown",
   "id": "c2c686e6-f075-404f-9170-b890205ac60b",
   "metadata": {},
   "source": [
    "### 3.5 Calculate stock, net addition to stock (NAS) and Outflow of products"
   ]
  },
  {
   "cell_type": "code",
   "execution_count": 29,
   "id": "c69ebe0c-525a-4cc0-a804-559e594c1d4c",
   "metadata": {},
   "outputs": [
    {
     "data": {
      "image/png": "[encoded data removed]",
      "text/plain": [
       "<Figure size 640x480 with 1 Axes>"
      ]
     },
     "metadata": {},
     "output_type": "display_data"
    },
    {
     "data": {
      "text/plain": [
       "[<matplotlib.lines.Line2D at 0x7f57be49fd40>]"
      ]
     },
     "execution_count": 29,
     "metadata": {},
     "output_type": "execute_result"
    },
    {
     "data": {
      "image/png": "[encoded data removed]",
      "text/plain": [
       "<Figure size 640x480 with 1 Axes>"
      ]
     },
     "metadata": {},
     "output_type": "display_data"
    }
   ],
   "source": [
    "# calculate flows & stocks using the cohort_surv_matrix\n",
    "stock_flow_timeseries['stock'] = cohort_surv_matrix.sum(axis=1)\n",
    "stock_flow_timeseries['nas'] = np.diff(stock_flow_timeseries['stock'], prepend=0)  # prepending 0 assumes no initial stock\n",
    "stock_flow_timeseries['outflow'] = stock_flow_timeseries['inflow'] - stock_flow_timeseries['nas']\n",
    "\n",
    "#Visualize calculated flows and stocks\n",
    "plt.plot(stock_flow_timeseries.index,stock_flow_timeseries['nas'], label = 'NAS')\n",
    "plt.plot(stock_flow_timeseries.index,stock_flow_timeseries['inflow'], label = 'Inflow')\n",
    "plt.plot(stock_flow_timeseries.index,stock_flow_timeseries['outflow'], label = 'outflow')\n",
    "plt.legend()\n",
    "plt.show()\n",
    "plt.close()\n",
    "plt.plot(stock_flow_timeseries.index,stock_flow_timeseries['stock'], label = 'stock')"
   ]
  },
  {
   "cell_type": "markdown",
   "id": "095f2cb4-49b4-46bb-93ec-449bd355c9ad",
   "metadata": {},
   "source": [
    "### 3.6 Calculate material content in Inflow, NAS, Outflow and stock"
   ]
  },
  {
   "cell_type": "code",
   "execution_count": 30,
   "id": "aaa19590-d361-4e65-96e1-cd2223e79cda",
   "metadata": {},
   "outputs": [
    {
     "data": {
      "image/png": "[encoded data removed]",
      "text/plain": [
       "<Figure size 640x480 with 1 Axes>"
      ]
     },
     "metadata": {},
     "output_type": "display_data"
    }
   ],
   "source": [
    "#Definde steel intensity as function of the inputs to the kettle process production\n",
    "steel_intensity = 0.3653 #Because significant digits matter\n",
    "\n",
    "#Calculate material content\n",
    "steel_stock_flow_timeseries = stock_flow_timeseries*steel_intensity\n",
    "\n",
    "# Visualize the comparison of the total inflow and the material contents in inflow\n",
    "plt.plot(stock_flow_timeseries.index,stock_flow_timeseries['outflow'], label = 'outflow')\n",
    "plt.plot(steel_stock_flow_timeseries.index,steel_stock_flow_timeseries['outflow'], label = 'steel outflow')\n",
    "plt.legend()\n",
    "plt.show()\n",
    "plt.close()"
   ]
  },
  {
   "cell_type": "markdown",
   "id": "16cb2342-eb81-4c2a-80b0-74a197190078",
   "metadata": {},
   "source": [
    "### 3.7 Calculate secondary material availablility"
   ]
  },
  {
   "cell_type": "code",
   "execution_count": 31,
   "id": "6413ebe1",
   "metadata": {},
   "outputs": [
    {
     "data": {
      "image/png": "[encoded data removed]",
      "text/plain": [
       "<Figure size 640x480 with 1 Axes>"
      ]
     },
     "metadata": {},
     "output_type": "display_data"
    }
   ],
   "source": [
    "# Define static efficiency of steel recycling\n",
    "steel_recycle_efficiency = 0.784444 #Because significant digits matter\n",
    "\n",
    "# Calculate the secondary material availability of steel\n",
    "secondary_steel_stock_flow_timeseries = steel_stock_flow_timeseries*steel_recycle_efficiency\n",
    "\n",
    "#Visualise the steel outflow vs. the secondary steel outflow\n",
    "plt.plot(steel_stock_flow_timeseries.index,steel_stock_flow_timeseries['outflow'], label = 'steel outflow')\n",
    "plt.plot(secondary_steel_stock_flow_timeseries.index,secondary_steel_stock_flow_timeseries['outflow'], label = 'recycled steel')\n",
    "plt.legend()\n",
    "plt.show()\n",
    "plt.close()\n",
    "\n",
    "#Calculate the relative share of secondary material in the inflow for steel\n",
    "secondary_steel_share = secondary_steel_stock_flow_timeseries['outflow']/steel_stock_flow_timeseries['inflow']\n",
    "\n"
   ]
  },
  {
   "cell_type": "markdown",
   "id": "b9595212-91a5-4b89-adef-14e175ebb00d",
   "metadata": {},
   "source": [
    "## 4. Integrate the dMFA results with the LCA"
   ]
  },
  {
   "cell_type": "markdown",
   "id": "91790a9d-4724-4d24-873d-869efd2a662b",
   "metadata": {},
   "source": [
    "### 4.1 Extract steel mass from inventory"
   ]
  },
  {
   "cell_type": "code",
   "execution_count": 32,
   "id": "dcaab0ad-671f-4d78-986c-193966f03669",
   "metadata": {},
   "outputs": [],
   "source": [
    "#define primary steel mass\n",
    "\"\"\" Add function to extract this from the inventory\"\"\"\n",
    "steel_primary_mass = 0.546246 #in kg from Ecoinvent"
   ]
  },
  {
   "cell_type": "markdown",
   "id": "6c7ed782-a2c5-4003-9396-3367a240ec2d",
   "metadata": {},
   "source": [
    "### 4.2 Calculate primary and secondary steel values and save in an array"
   ]
  },
  {
   "cell_type": "code",
   "execution_count": 33,
   "id": "258eb01e-51d1-445a-86b1-0af436cf9f69",
   "metadata": {},
   "outputs": [],
   "source": [
    "#Create df to store secondary steel values\n",
    "steel_df = pd.DataFrame()\n",
    "steel_df['years'] = stock_flow_timeseries.index\n",
    "\n",
    "#Calculate secondary and primary steel share\n",
    "steel_df['secondary steel share'] = secondary_steel_share.values\n",
    "steel_df['primary steel share'] = calculate_remaining_fraction_column(steel_df['secondary steel share'])\n",
    "\n",
    "#Call function to calculate new material composition and add to df\n",
    "steel_df['updated secondary steel share'] = multiply_column_by_value(steel_df['secondary steel share'],steel_primary_mass)\n",
    "steel_df['updated primary steel share'] = multiply_column_by_value(steel_df['primary steel share'],steel_primary_mass)\n",
    "\n",
    "\n",
    "#Save in an array\n",
    "primary_steel_values = DataArray(\n",
    "    product=kettle,\n",
    "    process=kettle_production,\n",
    "    array=steel_df['updated primary steel share'].values\n",
    ")\n",
    "\n",
    "#Save in an array\n",
    "secondary_steel_values = DataArray(\n",
    "    product=kettle,\n",
    "    process=kettle_production,\n",
    "    array=steel_df['updated secondary steel share'].values  \n",
    ")\n"
   ]
  },
  {
   "cell_type": "markdown",
   "id": "46f7d07c-4277-4aa4-ba5e-afbf82f72e19",
   "metadata": {},
   "source": [
    "### 4.3 Run function to create a Brightway2-Py Datapackage object from a list of DataArray objects."
   ]
  },
  {
   "cell_type": "code",
   "execution_count": 34,
   "id": "ff8a52d2-0883-4273-be60-90b1639087da",
   "metadata": {},
   "outputs": [],
   "source": [
    "dp = data_obj_for_arrays([\n",
    "    primary_steel_values,\n",
    "    secondary_steel_values,\n",
    "])"
   ]
  },
  {
   "cell_type": "markdown",
   "id": "28c8cf59-fd58-43d6-a67f-e1e174221873",
   "metadata": {},
   "source": [
    "## 4.4 LCA method selection"
   ]
  },
  {
   "cell_type": "code",
   "execution_count": 43,
   "id": "daacd749-a756-40dc-a5e5-3e0f2a9f45c5",
   "metadata": {},
   "outputs": [
    {
     "data": {
      "text/plain": [
       "[[('IPCC 2021', 'climate change', 'global warming potential (GWP100)')]]"
      ]
     },
     "execution_count": 43,
     "metadata": {},
     "output_type": "execute_result"
    }
   ],
   "source": [
    "# methods = [\n",
    "#     method for method in bd.methods \n",
    "#     if 'ipcc 2021' in method[0].lower() \n",
    "#     and method[1] == 'climate change'\n",
    "#     and 'gwp100' in method[2].lower()\n",
    "#     and 'LT' not in method[2]\n",
    "# ]\n",
    "# methods\n"
   ]
  },
  {
   "cell_type": "code",
   "execution_count": 46,
   "id": "0ae0d0b8-4289-4758-8e9e-3e99f3c07cd8",
   "metadata": {},
   "outputs": [],
   "source": [
    "methods = ('IPCC 2021', 'climate change', 'global warming potential (GWP100)')"
   ]
  },
  {
   "cell_type": "code",
   "execution_count": 47,
   "id": "f02e68da-b311-4398-8b6e-ad4e091fdf75",
   "metadata": {},
   "outputs": [],
   "source": [
    "multi_config = {\n",
    "    \"impact_categories\": methods\n",
    "}"
   ]
  },
  {
   "cell_type": "markdown",
   "id": "c080e431-92d6-412f-a284-399530980acc",
   "metadata": {},
   "source": [
    "### 4.4 Calculate LCIA of Production, Use Phase and EoL"
   ]
  },
  {
   "cell_type": "code",
   "execution_count": 51,
   "id": "8ec1163a-b154-4abd-ac28-1e0ab606e443",
   "metadata": {},
   "outputs": [],
   "source": [
    "\n",
    "\n",
    "ipcc = ('IPCC 2021', 'climate change', 'global warming potential (GWP100)')\n",
    "\n"
   ]
  },
  {
   "cell_type": "code",
   "execution_count": 52,
   "id": "e29f1cb6-ecb8-4786-a57f-3847402a2799",
   "metadata": {},
   "outputs": [],
   "source": [
    "functional_unit, data_objs, _ = bd.prepare_lca_inputs({db.get(kettle_service['code']).id: 1}, method=ipcc)"
   ]
  },
  {
   "cell_type": "code",
   "execution_count": 56,
   "id": "bfef8dd0-2ef1-4e08-bd1e-3738b1cbf041",
   "metadata": {},
   "outputs": [
    {
     "ename": "TypeError",
     "evalue": "'float' object is not callable",
     "output_type": "error",
     "traceback": [
      "\u001b[31m---------------------------------------------------------------------------\u001b[39m",
      "\u001b[31mTypeError\u001b[39m                                 Traceback (most recent call last)",
      "\u001b[36mCell\u001b[39m\u001b[36m \u001b[39m\u001b[32mIn[56]\u001b[39m\u001b[32m, line 4\u001b[39m\n\u001b[32m      2\u001b[39m lca.lci()\n\u001b[32m      3\u001b[39m lca.lcia()\n\u001b[32m----> \u001b[39m\u001b[32m4\u001b[39m \u001b[43mlca\u001b[49m\u001b[43m.\u001b[49m\u001b[43mscore\u001b[49m\u001b[43m(\u001b[49m\u001b[43m)\u001b[49m\n",
      "\u001b[31mTypeError\u001b[39m: 'float' object is not callable"
     ]
    }
   ],
   "source": [
    "lca = bc.LCA(functional_unit, data_objs = data_objs)\n",
    "lca.lci()\n",
    "lca.lcia()\n",
    "lca.score"
   ]
  },
  {
   "cell_type": "code",
   "execution_count": 48,
   "id": "bfa3b545-2668-4b5e-a00f-781f26eef677",
   "metadata": {},
   "outputs": [
    {
     "ename": "ValueError",
     "evalue": "Impact category (`Method`) IPCC 2021 not in this project",
     "output_type": "error",
     "traceback": [
      "\u001b[31m---------------------------------------------------------------------------\u001b[39m",
      "\u001b[31mValueError\u001b[39m                                Traceback (most recent call last)",
      "\u001b[36mCell\u001b[39m\u001b[36m \u001b[39m\u001b[32mIn[48]\u001b[39m\u001b[32m, line 4\u001b[39m\n\u001b[32m      1\u001b[39m functional_unit_use = {\n\u001b[32m      2\u001b[39m     \u001b[33m\"\u001b[39m\u001b[33mUse of a kettle for a year\u001b[39m\u001b[33m\"\u001b[39m: {db.get(kettle_service[\u001b[33m'\u001b[39m\u001b[33mcode\u001b[39m\u001b[33m'\u001b[39m]).id: \u001b[32m1\u001b[39m},\n\u001b[32m      3\u001b[39m }\n\u001b[32m----> \u001b[39m\u001b[32m4\u001b[39m use_data_objs = \u001b[43mbd\u001b[49m\u001b[43m.\u001b[49m\u001b[43mget_multilca_data_objs\u001b[49m\u001b[43m(\u001b[49m\n\u001b[32m      5\u001b[39m \u001b[43m    \u001b[49m\u001b[43mfunctional_units\u001b[49m\u001b[43m=\u001b[49m\u001b[43mfunctional_unit_use\u001b[49m\u001b[43m,\u001b[49m\u001b[43m \u001b[49m\n\u001b[32m      6\u001b[39m \u001b[43m    \u001b[49m\u001b[43mmethod_config\u001b[49m\u001b[43m=\u001b[49m\u001b[43mmulti_config\u001b[49m\n\u001b[32m      7\u001b[39m \u001b[43m)\u001b[49m\n",
      "\u001b[36mFile \u001b[39m\u001b[32m/opt/tljh/user/envs/bw25/lib/python3.12/site-packages/bw2data/compat.py:176\u001b[39m, in \u001b[36mget_multilca_data_objs\u001b[39m\u001b[34m(functional_units, method_config)\u001b[39m\n\u001b[32m    174\u001b[39m \u001b[38;5;28;01mfor\u001b[39;00m ic \u001b[38;5;129;01min\u001b[39;00m \u001b[38;5;28mset\u001b[39m(method_config.get(\u001b[33m\"\u001b[39m\u001b[33mimpact_categories\u001b[39m\u001b[33m\"\u001b[39m, [])):\n\u001b[32m    175\u001b[39m     \u001b[38;5;28;01mif\u001b[39;00m ic \u001b[38;5;129;01mnot\u001b[39;00m \u001b[38;5;129;01min\u001b[39;00m methods:\n\u001b[32m--> \u001b[39m\u001b[32m176\u001b[39m         \u001b[38;5;28;01mraise\u001b[39;00m \u001b[38;5;167;01mValueError\u001b[39;00m(\u001b[33mf\u001b[39m\u001b[33m\"\u001b[39m\u001b[33mImpact category (`Method`) \u001b[39m\u001b[38;5;132;01m{\u001b[39;00mic\u001b[38;5;132;01m}\u001b[39;00m\u001b[33m not in this project\u001b[39m\u001b[33m\"\u001b[39m)\n\u001b[32m    177\u001b[39m     data_objs.append(Method(ic).datapackage())\n\u001b[32m    179\u001b[39m \u001b[38;5;28;01mfor\u001b[39;00m n \u001b[38;5;129;01min\u001b[39;00m method_config.get(\u001b[33m\"\u001b[39m\u001b[33mnormalizations\u001b[39m\u001b[33m\"\u001b[39m, []):\n",
      "\u001b[31mValueError\u001b[39m: Impact category (`Method`) IPCC 2021 not in this project"
     ]
    }
   ],
   "source": [
    "functional_unit_use = {\n",
    "    \"Use of a kettle for a year\": {db.get(kettle_service['code']).id: 1},\n",
    "}\n",
    "use_data_objs = bd.get_multilca_data_objs(\n",
    "    functional_units=functional_unit_use, \n",
    "    method_config=multi_config\n",
    ")"
   ]
  },
  {
   "cell_type": "code",
   "execution_count": 40,
   "id": "36e46a5e-d536-44d7-8ee3-147b91e5de2c",
   "metadata": {},
   "outputs": [
    {
     "ename": "TypeError",
     "evalue": "'dict' object is not callable",
     "output_type": "error",
     "traceback": [
      "\u001b[31m---------------------------------------------------------------------------\u001b[39m",
      "\u001b[31mTypeError\u001b[39m                                 Traceback (most recent call last)",
      "\u001b[36mCell\u001b[39m\u001b[36m \u001b[39m\u001b[32mIn[40]\u001b[39m\u001b[32m, line 4\u001b[39m\n\u001b[32m      2\u001b[39m use_lca.lci()\n\u001b[32m      3\u001b[39m use_lca.lcia()\n\u001b[32m----> \u001b[39m\u001b[32m4\u001b[39m \u001b[43muse_lca\u001b[49m\u001b[43m.\u001b[49m\u001b[43mscores\u001b[49m\u001b[43m(\u001b[49m\u001b[43m)\u001b[49m\n",
      "\u001b[31mTypeError\u001b[39m: 'dict' object is not callable"
     ]
    }
   ],
   "source": [
    "use_lca = bc.MultiLCA(demands=functional_unit_use, method_config=multi_config, data_objs=use_data_objs)\n",
    "use_lca.lci()\n",
    "use_lca.lcia()\n",
    "use_lca.scores"
   ]
  },
  {
   "cell_type": "markdown",
   "id": "efdbf622-0a32-4d13-9c9b-d9e422b6ccf4",
   "metadata": {},
   "source": [
    "### 4.5 Calculate the LCIA of production"
   ]
  },
  {
   "cell_type": "code",
   "execution_count": null,
   "id": "e532db9b",
   "metadata": {},
   "outputs": [],
   "source": [
    "#Define impact category method\n",
    "ipcc = ('IPCC 2021', 'climate change', 'global warming potential (GWP100)')\n",
    "\n",
    "#Define functional unit for production phase\n",
    "functional_unit, data_objs, _ = bd.prepare_lca_inputs({kettle: 1}, remapping=False,method=ipcc)\n",
    "\n",
    "#Set-up LCA\n",
    "lca = bc.LCA(functional_unit, data_objs = data_objs + [dp], use_arrays=True)\n",
    "\n",
    "#Calculate LCI for the production phase\n",
    "lca.lci()\n",
    "\n",
    "#Calculate LCIA for production phase\n",
    "lca.lcia()\n",
    "\n",
    "production_LCIA ={}\n",
    "for value in steel_df['year'].unique():\n",
    "    #so it doesnt go to the value of the next year already\n",
    "    LCA.keep_first_iteration()\n",
    "    #Add the LCIA of the production phase to the next year\n",
    "    production_LCIA[year] = next(lca)"
   ]
  },
  {
   "cell_type": "code",
   "execution_count": null,
   "id": "2c5ad0d5-e6c8-40d2-b0b2-a0ea783e0eae",
   "metadata": {},
   "outputs": [],
   "source": []
  },
  {
   "cell_type": "code",
   "execution_count": null,
   "id": "512fb707-32d3-4ba1-815c-d7440d4cc3b3",
   "metadata": {},
   "outputs": [],
   "source": []
  },
  {
   "cell_type": "code",
   "execution_count": null,
   "id": "37ca53c8",
   "metadata": {},
   "outputs": [],
   "source": [
    "for value in np.array(secondary_steel_share):\n",
    "    materials = update_material_composition(value)\n",
    "    primary_input = list(kettle_production.technosphere())[0]\n",
    "    secondary_input = list(kettle_production.technosphere())[1]\n",
    "    \n",
    "    primary_input['amount'] = materials['slt1']\n",
    "    primary_input.save()\n",
    "\n",
    "    secondary_input['amount'] = materials['slt2']\n",
    "    secondary_input.save()\n",
    "    \n",
    "\n",
    "    functional_unit, data_objs, _ = bd.prepare_lca_inputs({kettle: 1}, remapping=False)\n",
    "    lca = bc.LCA(demand=functional_unit, data_objs=data_objs)\n",
    "    lca.lci()\n",
    "    lca.lcia()\n",
    "    \n"
   ]
  },
  {
   "cell_type": "code",
   "execution_count": null,
   "id": "9afd7649-d665-4f32-9df5-d5537d5240bd",
   "metadata": {},
   "outputs": [],
   "source": [
    "    \n",
    "    primary_input['amount'] = materials['slt1']\n",
    "    primary_input.save()\n",
    "\n",
    "    secondary_input['amount'] = materials['slt2']\n",
    "    secondary_input.save()\n",
    "\n",
    "    functional_unit, data_objs, _ = bd.prepare_lca_inputs({kettle: 1}, remapping=False)\n",
    "    lca = bc.LCA(demand=functional_unit, data_objs=data_objs)\n",
    "    lca.lci()\n",
    "    lca.inventory[lca.dicts.biosphere[co2.id], :].sum()\n",
    "    lca.inventory[lca.dicts.biosphere[co2.id], :].sum()"
   ]
  },
  {
   "cell_type": "code",
   "execution_count": null,
   "id": "3069715b-e66f-4c4c-8fd4-9fa4e6a374e5",
   "metadata": {},
   "outputs": [],
   "source": [
    "secondary_steel_share_dict"
   ]
  },
  {
   "cell_type": "code",
   "execution_count": null,
   "id": "0f5a0c4b-41ea-44d6-bbb4-3fa978fd3fef",
   "metadata": {},
   "outputs": [],
   "source": [
    "my_edge['<some_key>'] = \"<some_new_value>\"\n",
    "my_edge.save()\n",
    "\n",
    "\n",
    "lca = bc.LCA(demand=functional_unit, data_objs=data_objs)\n",
    "lca.lci()\n",
    "lca.inventory[lca.dicts.biosphere[co2.id], :].sum()"
   ]
  },
  {
   "cell_type": "code",
   "execution_count": null,
   "id": "beab049d-b604-4beb-8966-10b4d064f0e6",
   "metadata": {},
   "outputs": [],
   "source": [
    "primary_input = list(kettle_production.technosphere())[0]\n",
    "primary_input"
   ]
  },
  {
   "cell_type": "code",
   "execution_count": null,
   "id": "50a20a76-fd77-4b4e-8958-c6f1f873fa3b",
   "metadata": {},
   "outputs": [],
   "source": [
    "secondary_input = list(kettle_production.technosphere())[1]\n",
    "secondary_input"
   ]
  },
  {
   "cell_type": "code",
   "execution_count": null,
   "id": "71ccfb14-f79e-4af7-8348-477011b05e52",
   "metadata": {},
   "outputs": [],
   "source": [
    "primary_input['amount'] = 0.5\n",
    "primary_input.save()\n",
    "primary_input"
   ]
  },
  {
   "cell_type": "code",
   "execution_count": null,
   "id": "6b0cec50-7be3-4eab-9956-3c4fe880b7e9",
   "metadata": {},
   "outputs": [],
   "source": [
    "secondary_input['amount'] = 0.1\n",
    "secondary_input.save()\n",
    "secondary_input"
   ]
  },
  {
   "cell_type": "code",
   "execution_count": null,
   "id": "44c5b9e7-a207-47ce-a7fd-cce0e6d081c8",
   "metadata": {},
   "outputs": [],
   "source": [
    "list(kettle_production.technosphere())"
   ]
  },
  {
   "cell_type": "markdown",
   "id": "fcd533a6-f3aa-4a00-a056-3a2fb4dee36a",
   "metadata": {},
   "source": [
    "### Old environmental calculations"
   ]
  },
  {
   "cell_type": "code",
   "execution_count": null,
   "id": "f6bb4e4d-c02d-4ef7-b600-5313747cfa15",
   "metadata": {},
   "outputs": [],
   "source": [
    "functional_unit, data_objs, _ = bd.prepare_lca_inputs({kettle: 1}, remapping=False)"
   ]
  }
 ],
 "metadata": {
  "kernelspec": {
   "display_name": "Python [conda env:bw25]",
   "language": "python",
   "name": "conda-env-bw25-py"
  },
  "language_info": {
   "codemirror_mode": {
    "name": "ipython",
    "version": 3
   },
   "file_extension": ".py",
   "mimetype": "text/x-python",
   "name": "python",
   "nbconvert_exporter": "python",
   "pygments_lexer": "ipython3",
   "version": "3.12.11"
  }
 },
 "nbformat": 4,
 "nbformat_minor": 5
}
