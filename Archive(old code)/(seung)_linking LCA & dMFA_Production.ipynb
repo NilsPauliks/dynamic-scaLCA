{
 "cells": [
  {
   "cell_type": "code",
   "execution_count": 1,
   "id": "fb856e3a-0842-42a4-8bc9-dd7984af7ecb",
   "metadata": {},
   "outputs": [],
   "source": [
    "import bw2data as bd\n",
    "import bw2io as bi\n",
    "from pathlib import Path"
   ]
  },
  {
   "cell_type": "code",
   "execution_count": 2,
   "id": "f23d2011-ba53-4a86-ac29-a59e40f3c19d",
   "metadata": {},
   "outputs": [
    {
     "name": "stdout",
     "output_type": "stream",
     "text": [
      "Restoring project backup archive - this could take a few minutes...\n",
      "Restored project: linking LCA & dMFA_production\n"
     ]
    },
    {
     "data": {
      "text/plain": [
       "'linking LCA & dMFA_production'"
      ]
     },
     "execution_count": 2,
     "metadata": {},
     "output_type": "execute_result"
    }
   ],
   "source": [
    "import bw2data as bd\n",
    "import bw2io as bi\n",
    "\n",
    "PROJECT_NAME = \"linking LCA & dMFA_production\"\n",
    "\n",
    "bi.restore_project_directory(\n",
    "    fp='/etc/data/ecoinvent-3.10-cutoff-bw25.tar.gz',\n",
    "    project_name=PROJECT_NAME, overwrite_existing=True\n",
    ")\n",
    "\n"
   ]
  },
  {
   "cell_type": "code",
   "execution_count": 3,
   "id": "1e4f656f-e787-4d92-a7ab-d0e1af1e7555",
   "metadata": {},
   "outputs": [
    {
     "name": "stdout",
     "output_type": "stream",
     "text": [
      "\u001b[2m07:41:01+0000\u001b[0m [\u001b[32m\u001b[1minfo     \u001b[0m] \u001b[1mApplying automatic update: 4.0 database search directories FTS5\u001b[0m\n",
      "\u001b[2m07:41:01+0000\u001b[0m [\u001b[32m\u001b[1minfo     \u001b[0m] \u001b[1mReindexing database ecoinvent-3.10-biosphere\u001b[0m\n",
      "\u001b[2m07:41:01+0000\u001b[0m [\u001b[32m\u001b[1minfo     \u001b[0m] \u001b[1mReindexing database ecoinvent-3.10-cutoff\u001b[0m\n"
     ]
    }
   ],
   "source": [
    "bd.projects.set_current(\"linking LCA & dMFA_production\")\n"
   ]
  },
  {
   "cell_type": "code",
   "execution_count": 4,
   "id": "59c889ec-9f08-41b1-b939-324e6d12a3ba",
   "metadata": {},
   "outputs": [
    {
     "name": "stdout",
     "output_type": "stream",
     "text": [
      "Databases dictionary with 2 object(s):\n",
      "\tecoinvent-3.10-biosphere\n",
      "\tecoinvent-3.10-cutoff\n"
     ]
    }
   ],
   "source": [
    "print(bd.databases)"
   ]
  },
  {
   "cell_type": "code",
   "execution_count": 5,
   "id": "e2f0f38a-e55f-4628-9c5b-f83bc8ea844e",
   "metadata": {},
   "outputs": [
    {
     "name": "stdout",
     "output_type": "stream",
     "text": [
      "23523\n",
      "['market for electricity, high voltage' (kilowatt hour, CI, None), 'clinker production' (kilogram, PE, None), 'heat and power co-generation, lignite' (megajoule, PL, None)]\n"
     ]
    }
   ],
   "source": [
    "db = bd.Database(\"ecoinvent-3.10-cutoff\")\n",
    "print(len(db))  # Total number of activities\n",
    "print(list(db)[:3])  # Display a few sample activitiesn"

   ]
  },
  {
   "cell_type": "code",
   "execution_count": 6,
   "id": "0d1d9fe1-846e-4f8f-bc48-6161647cfc10",
   "metadata": {},
   "outputs": [],
   "source": [
    "db = bd.Database(\"ecoinvent-3.10-cutoff\")\n",
    "# Let the metadata system know this database exists. Not necessary if using a `bw2io` importer.\n",
    "db.register(hi_mom=True, language=\"Singlish\")"
   ]
  },
  {
   "cell_type": "code",
   "execution_count": 7,
   "id": "c548b412-e8a1-4291-8a8a-655218016118",
   "metadata": {},
   "outputs": [
    {
     "data": {
      "text/plain": [
       "Databases dictionary with 2 object(s):\n",
       "\tecoinvent-3.10-biosphere\n",
       "\tecoinvent-3.10-cutoff"
      ]
     },
     "execution_count": 7,
     "metadata": {},
     "output_type": "execute_result"
    }
   ],
   "source": [
    "bd.databases"
   ]
  },
  {
   "cell_type": "code",
   "execution_count": 8,
   "id": "02f1926e-4fac-4080-a597-de16ba599e6e",
   "metadata": {},
   "outputs": [
    {
     "data": {
      "text/plain": [
       "{'overwrite': False,\n",
       " 'format': 'Ecoinvent XML',\n",
       " 'depends': ['ecoinvent-3.10-biosphere'],\n",
       " 'backend': 'sqlite',\n",
       " 'number': 0,\n",
       " 'modified': '2025-06-25T07:41:06.184644',\n",
       " 'geocollections': [],\n",
       " 'processed': '2025-06-25T07:41:06.186182',\n",
       " 'dirty': False,\n",
       " 'searchable': True}"
      ]
     },
     "execution_count": 8,
     "metadata": {},
     "output_type": "execute_result"
    }
   ],
   "source": [
    "db.metadata"
   ]
  },
  {
   "cell_type": "code",
   "execution_count": 9,
   "id": "f5aad30b-c753-474a-bb8a-5d1eaecc837d",
   "metadata": {},
   "outputs": [],
   "source": [
    "kettle = db.new_node(\n",
    "    name=\"kettle\",\n",
    "    unit=\"number\",\n",
    "    type=bd.labels.product_node_default,\n",
    ")\n",
    "\n",
    "kettle_production = db.new_node(\n",
    "    name=\"kettle production\",\n",
    "    location=\"RER\",\n",
    "    type=bd.labels.process_node_default,\n",
    ")\n",
    "\n",
    "kettle.save()\n",
    "kettle_production.save()"
   ]
  },
  {
   "cell_type": "code",
   "execution_count": 10,
   "id": "bccf6a5a-e3d7-4f84-be64-6debf26e65ac",
   "metadata": {},
   "outputs": [],
   "source": [
    "#electricity = db.new_node(\n",
    "    #name='Electricity',\n",
    "    #unit='kilowatt hour',\n",
    "    #type=bd.labels.product_node_default,\n",
    "#)\n",
    "#electricity_production = db.new_node(\n",
    "    #name='electricity production',\n",
    "    #location='',\n",
    "    #type=bd.labels.process_node_default,\n",
    "#)\n",
    "\n",
    "#electricity.save()\n",
    "#electricity_production.save()"
   ]
  },
  {
   "cell_type": "code",
   "execution_count": 11,
   "id": "1c5a32cc-40e1-4a55-baa9-8ceb30300186",
   "metadata": {},
   "outputs": [],
   "source": [
    "slt1_production = db.new_node(\n",
    "    code=\"slt-production\",\n",
    "    name='stainless steel production', #market for steel, chromium steel 18/8\n",
    "    location='RER',\n",
    "    type=bd.labels.process_node_default,\n",
    ")\n",
    "slt1 = db.new_node(\n",
    "    code=\"slt\",\n",
    "    name='steel',\n",
    "    unit=\"kilogram\",\n",
    "    type=bd.labels.product_node_default,\n",
    ")\n",
    "\n",
    "\n",
    "slt1_production.save()\n",
    "slt1.save()"
   ]
  },
  {
   "cell_type": "code",
   "execution_count": 12,
   "id": "56050f63-0cec-4d3d-9961-5f4c006f57cf",
   "metadata": {},
   "outputs": [],
   "source": [
    "slt2_production = db.new_node(\n",
    "    code=\"slt-production2\",\n",
    "    name='stainless steel production2', #market for steel, chromium steel 18/8\n",
    "    location='RER',\n",
    "    type=bd.labels.process_node_default,\n",
    ")\n",
    "slt2 = db.new_node(\n",
    "    code=\"slt2\",\n",
    "    name='steel2',\n",
    "    unit=\"kilogram\",\n",
    "    type=bd.labels.product_node_default,\n",
    ")\n",
    "\n",
    "\n",
    "slt2_production.save()\n",
    "slt2.save()"
   ]
  },
  {
   "cell_type": "code",
   "execution_count": 13,
   "id": "b5e41c93-b535-436b-b661-27ad0726be1b",
   "metadata": {},
   "outputs": [],
   "source": [
    "#cp_production = db.new_node(\n",
    "    #code=\"cp-production\",\n",
    "    #name='copper production', #market for polypropylene, granulate\n",
    "    #location='DE',\n",
    "    #type=bd.labels.process_node_default,\n",
    "#)\n",
    "#cp = db.new_node(\n",
    "    #code=\"cp\",\n",
    "    #name='copper',\n",
    "    #unit=\"kilogram\",\n",
    "    #type=bd.labels.product_node_default,\n",
    "#)\n",
    "\n",
    "\n",
    "#cp_production.save()\n",
    "#cp.save()"
   ]
  },
  {
   "cell_type": "code",
   "execution_count": 14,
   "id": "9da6166b-d178-4ab7-a156-9b1fd087ed5d",
   "metadata": {},
   "outputs": [],
   "source": [
    "co2 = db.new_node(\n",
    "    name=\"Carbon Dioxide\", \n",
    "    context=('air',),\n",
    "    tags={'CAS Number': '124-38-9'},\n",
    "    unit='kilogram',\n",
    "    type=bd.labels.biosphere_node_default,\n",
    ")\n",
    "\n",
    "co2.save()"
   ]
  },
  {
   "cell_type": "code",
   "execution_count": 39,
   "id": "50acca10-cbcd-4b0b-9631-8efef5714a54",
   "metadata": {},
   "outputs": [],
   "source": [
    "kettle_production.new_edge(\n",
    "    amount=1,\n",
    "    input=kettle,\n",
    "    type=bd.labels.production_edge_default,\n",
    ").save()\n",
    "slt1_production.new_edge(\n",
    "    amount=1,\n",
    "    input=slt1,\n",
    "    type=bd.labels.production_edge_default,\n",
    ").save()\n",
    "slt2_production.new_edge(\n",
    "    amount=1,\n",
    "    input=slt2,\n",
    "    type=bd.labels.production_edge_default,\n",
    ").save()\n",
    "#cp_production.new_edge(\n",
    "   # amount=1,\n",
    "    #input=cp,\n",
    "    #type=bd.labels.production_edge_default,\n",
    "#).save()\n",
    "#electricity_production.new_edge(\n",
    "    #amount=1,\n",
    "    #input=electricity,\n",
    "    #type=bd.labels.production_edge_default,\n",
    "#).save()    "
   ]
  },
  {
   "cell_type": "code",
   "execution_count": 40,
   "id": "785f8b2c-0721-4e2e-a8f5-fbfa2d6dc1b5",
   "metadata": {},
   "outputs": [],
   "source": [
    "materials = {\n",
    "    slt1: 0.546246,\n",
    "    slt2: 0,\n",
    "    #cp: 0.017046,\n",
    "    # ... other nodes and their corresponding values in kilograms\n",
    "}\n",
    "\n",
    "for material, amount in materials.items():\n",
    "    kettle_production.new_edge(\n",
    "        amount=amount,\n",
    "        type=bd.labels.consumption_edge_default,\n",
    "        input=material\n",
    "    ).save()"
   ]
  },
  {
   "cell_type": "code",
   "execution_count": 41,
   "id": "db628b11-dc87-4f7f-a5e2-2db968a92b71",
   "metadata": {},
   "outputs": [],
   "source": [
    "#slt_production.new_edge(\n",
    "    #amount=0.01389,  # 0.01389 kWh of electricity, in the papaer (MARCINKOWSKI, 2017)\n",
    "    #uncertainty_type=5, \n",
    "    #minimum=0.012, \n",
    "    #maximum=0.016,\n",
    "    #type=bd.labels.consumption_edge_default,\n",
    "    #input=electricity,\n",
    "#).save()\n",
    "\n"
   ]
  },
  {
   "cell_type": "code",
   "execution_count": 42,
   "id": "b4307bb4-1e0b-4d28-8ee0-a1078709e8e3",
   "metadata": {},
   "outputs": [],
   "source": [
    "#cp_production.new_edge(\n",
    "    #amount=0.01389,  \n",
    "    #uncertainty_type=5, \n",
    "    #minimum=0.012,  \n",
    "    #maximum=0.016,  \n",
    "    #type=bd.labels.consumption_edge_default,\n",
    "    #input=electricity,\n",
    "#).save()"
   ]
  },
  {
   "cell_type": "code",
   "execution_count": 43,
   "id": "2d417eda-b90d-4bac-a9fd-250e27b0034f",
   "metadata": {},
   "outputs": [],
   "source": [
    "slt1_production.new_edge(\n",
    "    amount=4.62, \n",
    "    uncertainty_type=5, \n",
    "    minimum=4.158,\n",
    "    maximum=5.082, \n",
    "    type=bd.labels.biosphere_edge_default,\n",
    "    input=co2,\n",
    ").save()"
   ]
  },
  {
   "cell_type": "code",
   "execution_count": 44,
   "id": "83efdba1-1f18-432a-ba6a-7548f1f943bb",
   "metadata": {},
   "outputs": [],
   "source": [
    "slt2_production.new_edge(\n",
    "    amount=0, \n",
    "    uncertainty_type=5, \n",
    "    minimum=0,\n",
    "    maximum=0, \n",
    "    type=bd.labels.biosphere_edge_default,\n",
    "    input=co2,\n",
    ").save()"
   ]
  },
  {
   "cell_type": "code",
   "execution_count": 45,
   "id": "20b9854c-8220-4551-b86f-7ca923c638e1",
   "metadata": {},
   "outputs": [],
   "source": [
    "import bw2calc as bc"
   ]
  },
  {
   "cell_type": "code",
   "execution_count": null,
   "id": "c0ed56e5-9b76-4132-92c8-8c13c8519666",
   "metadata": {},
   "outputs": [],
   "source": [
    "functional_unit, data_objs, _ = bd.prepare_lca_inputs({kettle: 1}, remapping=False)"
   ]
  },
  {
   "cell_type": "code",
   "execution_count": null,
   "id": "d92d90f8-eeac-4131-9339-59f9286fa145",
   "metadata": {},
   "outputs": [],
   "source": [
    "lca = bc.LCA(demand=functional_unit, data_objs=data_objs)\n",
    "lca.lci()"
   ]
  },
  {
   "cell_type": "code",
   "execution_count": null,
   "id": "d4285366-d6df-4240-872f-6a47ee3030d6",
   "metadata": {},
   "outputs": [],
   "source": [
    "lca.inventory[lca.dicts.biosphere[co2.id], :].sum()"
   ]
  },
  {
   "cell_type": "code",
   "execution_count": null,
   "id": "9c3c4ba2-d9bb-49ab-ba49-69b485e3d79f",
   "metadata": {},
   "outputs": [],
   "source": []
  },
  {
   "cell_type": "code",
   "execution_count": null,
   "id": "bcdd2a5e-659e-4b19-bad0-a62b3749914d",
   "metadata": {},
   "outputs": [],
   "source": []
  }
 ],
 "metadata": {
  "kernelspec": {
   "display_name": "Python [conda env:bw25]",
   "language": "python",
   "name": "conda-env-bw25-py"
  },
  "language_info": {
   "codemirror_mode": {
    "name": "ipython",
    "version": 3
   },
   "file_extension": ".py",
   "mimetype": "text/x-python",
   "name": "python",
   "nbconvert_exporter": "python",
   "pygments_lexer": "ipython3",
   "version": "3.12.11"
  }
 },
 "nbformat": 4,
 "nbformat_minor": 5
}
