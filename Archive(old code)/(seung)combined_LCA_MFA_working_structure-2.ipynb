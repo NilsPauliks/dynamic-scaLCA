{
 "cells": [
  {
   "cell_type": "markdown",
   "id": "10842f16-7629-4118-ad74-c89aaaf019ae",
   "metadata": {},
   "source": [
    "# Dynamic scaLCA - combining dynamic material flow analysis with Life cycle assessment"
   ]
  },
  {
   "cell_type": "markdown",
   "id": "44c69af4-6908-4ffa-a0b6-24e41bdd8479",
   "metadata": {},
   "source": [
    "## 1. Modules and Functions"
   ]
  },
  {
   "cell_type": "markdown",
   "id": "61d1f2d1-e950-4f87-805e-c05c2941f6ca",
   "metadata": {},
   "source": [
    "### 1.1 Modules"
   ]
  },
  {
   "cell_type": "code",
   "execution_count": 1,
   "id": "896dfba6",
   "metadata": {},
   "outputs": [],
   "source": [
    "import bw2data as bd\n",
    "import bw2io as bi\n",
    "from pathlib import Path\n",
    "import bw2data as bd\n",
    "import bw2calc as bc\n",
    "import pandas as pd\n",
    "import numpy as np\n",
    "import scipy.stats\n",
    "from os import chdir\n",
    "import matplotlib.pyplot as plt\n",
    "import warnings\n",
    "warnings.filterwarnings(\"ignore\", category=UserWarning, module=\"openpyxl\")"
   ]
  },
  {
   "cell_type": "markdown",
   "id": "0083e46f-7fdf-4e98-b76e-9e6e7fa95a9d",
   "metadata": {},
   "source": [
    "### 1.2 Functions"
   ]
  },
  {
   "cell_type": "code",
   "execution_count": 2,
   "id": "4df46604-4ece-440e-a92a-e86bbccd7145",
   "metadata": {},
   "outputs": [],
   "source": [
    "def update_material_composition(secondary_steel_share):\n",
    "    materials = {}\n",
    "    steel_primary_share = 1 - secondary_steel_share\n",
    "    materials['slt1'] = 0.546246 * steel_primary_share\n",
    "    materials['slt2'] = 0.546246 * secondary_steel_share\n",
    "    return materials"
   ]
  },
  {
   "cell_type": "markdown",
   "id": "0e4b886b-a724-491a-94e3-8486080dcb50",
   "metadata": {},
   "source": [
    "## 2. Life cycle assessment"
   ]
  },
  {
   "cell_type": "markdown",
   "id": "d5e0f3de-0159-4aaf-8db8-99aa7e1e15c3",
   "metadata": {},
   "source": [
    "### 2.1 Project set-up in Brightway"
   ]
  },
  {
   "cell_type": "code",
   "execution_count": 3,
   "id": "6c95b912-51cf-4326-a249-10f4122b5de7",
   "metadata": {},
   "outputs": [
    {
     "name": "stdout",
     "output_type": "stream",
     "text": [
      "Restoring project backup archive - this could take a few minutes...\n",
      "Restored project: Linking dMFA & LCA\n",
      "\u001b[2m08:41:01+0000\u001b[0m [\u001b[32m\u001b[1minfo     \u001b[0m] \u001b[1mApplying automatic update: 4.0 database search directories FTS5\u001b[0m\n",
      "\u001b[2m08:41:01+0000\u001b[0m [\u001b[32m\u001b[1minfo     \u001b[0m] \u001b[1mReindexing database ecoinvent-3.10-biosphere\u001b[0m\n",
      "\u001b[2m08:41:01+0000\u001b[0m [\u001b[32m\u001b[1minfo     \u001b[0m] \u001b[1mReindexing database ecoinvent-3.10-cutoff\u001b[0m\n"
     ]
    }
   ],
   "source": [
    "# Create project name\n",
    "PROJECT_NAME = \"Linking dMFA & LCA\"\n",
    "\n",
    "#Load Ecoinvent database\n",
    "bi.restore_project_directory(\n",
    "    fp='/etc/data/ecoinvent-3.10-cutoff-bw25.tar.gz',\n",
    "    project_name=PROJECT_NAME,\n",
    "    overwrite_existing=True\n",
    ")\n",
    "#Define project in brightway\n",
    "bd.projects.set_current(PROJECT_NAME)\n",
    "\n",
    "#Define database\n",
    "db=bd.Database('ecoinvent-3.10-cutoff')"
   ]
  },
  {
   "cell_type": "markdown",
   "id": "b9f5f1af-656c-4b22-9958-2fcc77bb38d9",
   "metadata": {},
   "source": [
    "### 2.2 Secondary steel production"
   ]
  },
  {
   "cell_type": "code",
   "execution_count": 4,
   "id": "36ae9a19",
   "metadata": {},
   "outputs": [],
   "source": [
    "# Define end-of-life treatment\n",
    "steel_recycling_RER = bd.get_node(name='steel production, electric, chromium steel 18/8', location = 'RER')\n",
    "\n",
    "\"\"\" what does this do?\"\"\"\n",
    "my_edge = list(steel_recycling_RER.edges())[14]\n",
    "my_edge.delete()\n",
    "\n",
    "# Define scrap steel product nodes\n",
    "scrap_stainless_steel = db.new_node(\n",
    "    code='scrap stainless steel',\n",
    "    name=\"scrap stainless steel\",\n",
    "    unit=\"kg\",\n",
    "    type=bd.labels.product_node_default,\n",
    ")\n",
    "#Save the node\n",
    "scrap_stainless_steel.save()\n",
    "\n",
    "# Define consumption edges\n",
    "steel_recycling_RER.new_edge(\n",
    "    amount=0.551, \n",
    "    type=bd.labels.consumption_edge_default,\n",
    "    input=scrap_stainless_steel\n",
    ").save()"
   ]
  },
  {
   "cell_type": "markdown",
   "id": "15f7d280-4937-4f7c-9faa-34e2d8f0a22c",
   "metadata": {},
   "source": [
    "### 2.3 Kettle production"
   ]
  },
  {
   "cell_type": "code",
   "execution_count": 43,
   "id": "caa5f952-244d-4ad3-91c2-be86d6355f3c",
   "metadata": {},
   "outputs": [],
   "source": [
    "summerschool_kettle_process['name']='summerschool kettle prod'"
   ]
  },
  {
   "cell_type": "code",
   "execution_count": 52,
   "id": "434da1e5-06d8-4b8f-a2f1-da828caf77b2",
   "metadata": {},
   "outputs": [],
   "source": [
    "summerschool_kettle_process.save()"
   ]
  },
  {
   "cell_type": "code",
   "execution_count": 54,
   "id": "1bae2e60-13c2-4506-8400-0d66cd8ea952",
   "metadata": {},
   "outputs": [
    {
     "data": {
      "text/plain": [
       "['electric kettle production' (unit, GLO, None)]"
      ]
     },
     "execution_count": 54,
     "metadata": {},
     "output_type": "execute_result"
    }
   ],
   "source": [
    "[n for n in db if 'electric kettle production' in n['name']]"
   ]
  },
  {
   "cell_type": "code",
   "execution_count": 58,
   "id": "d027ef5a-3548-4040-9a22-6f8ec11e3f96",
   "metadata": {},
   "outputs": [
    {
     "data": {
      "text/plain": [
       "'electric kettle production'"
      ]
     },
     "execution_count": 58,
     "metadata": {},
     "output_type": "execute_result"
    }
   ],
   "source": [
    "summerschool_kettle_process['name']"
   ]
  },
  {
   "cell_type": "code",
   "execution_count": 55,
   "id": "e44ca313-9ba0-4e75-9364-fd25a282521f",
   "metadata": {},
   "outputs": [],
   "source": [
    "ecoinvent_kettle_process = bd.get_node(name='electric kettle production', location = 'GLO')\n",
    "summerschool_kettle_process = ecoinvent_kettle_process.copy()\n",
    "\n",
    "my_edge = list(summerschool_kettle_process.edges())[14]\n",
    "#my_edge.delete()"
   ]
  },
  {
   "cell_type": "code",
   "execution_count": 6,
   "id": "642bfb2a-ccfd-4035-95c0-7f17656200d7",
   "metadata": {},
   "outputs": [
    {
     "name": "stdout",
     "output_type": "stream",
     "text": [
      "'electric kettle production' (unit, GLO, None) electric kettle\n",
      "'electric kettle production' (unit, GLO, None) electric kettle\n",
      "0: electric kettle production, location=GLO, reference product=electric kettle, id=26455\n",
      "1: electric kettle production, location=GLO, reference product=electric kettle, id=196545357926494208\n"
     ]
    }
   ],
   "source": [
    "db = bd.Database(\"ecoinvent-3.10-cutoff\")  # 데이터베이스 객체 불러오기\n",
    "matches = db.search(\"electric kettle production\")  # 검색 실행\n",
    "\n",
    "for node in matches:\n",
    "    if node['location'] == 'GLO':\n",
    "        print(node, node.get('reference product'))\n",
    "\n",
    "for i, node in enumerate(matches):\n",
    "    print(f\"{i}: {node['name']}, location={node['location']}, reference product={node.get('reference product')}, id={node.id}\")\n"
   ]
  },
  {
   "cell_type": "code",
   "execution_count": 34,
   "id": "eb884380-fde9-4442-af3c-468f4584eeb9",
   "metadata": {},
   "outputs": [
    {
     "data": {
      "text/plain": [
       "['electric kettle production' (unit, GLO, None),\n",
       " 'electric kettle production' (unit, GLO, None)]"
      ]
     },
     "execution_count": 34,
     "metadata": {},
     "output_type": "execute_result"
    }
   ],
   "source": [
    "matche"
   ]
  },
  {
   "cell_type": "code",
   "execution_count": 7,
   "id": "cf662c64-7d71-40c7-8a79-908bb700376b",
   "metadata": {},
   "outputs": [
    {
     "name": "stdout",
     "output_type": "stream",
     "text": [
      "'electric kettle production' (unit, GLO, None) 26455 electric kettle\n"
     ]
    }
   ],
   "source": [
    "matches = db.search(\"electric kettle production\")\n",
    "\n",
    "# 첫 번째 노드를 선택\n",
    "kettle = matches[0]\n",
    "print(kettle, kettle.id, kettle.get(\"reference product\"))\n"
   ]
  },
  {
   "cell_type": "code",
   "execution_count": 8,
   "id": "04c3c8d4-b3dc-40cf-811f-df07401a7dde",
   "metadata": {},
   "outputs": [
    {
     "name": "stdout",
     "output_type": "stream",
     "text": [
      "0.017734 kilogram 'market for chromium' (GLO)\n",
      "-0.000558647372535729 kilogram 'market for nickel smelter slag' (CH)\n",
      "-0.07037935262746428 kilogram 'market for nickel smelter slag' (RoW)\n",
      "0.070938 kilogram 'market for nickel, class 1' (GLO)\n",
      "-0.18281465556955923 kilogram 'market for scrap steel' (Europe without Switzerland)\n",
      "-0.00023162033165852533 kilogram 'market for scrap steel' (CH)\n",
      "-0.3825057240987823 kilogram 'market for scrap steel' (RoW)\n",
      "0.547818 kilogram 'market for steel, low-alloyed, hot rolled' (GLO)\n"
     ]
    }
   ],
   "source": [
    "keywords = ['steel','chromium', 'nickel']\n",
    "filtered_exchanges = []\n",
    "\n",
    "for exc in summerschool_kettle_process.technosphere():\n",
    "    if any(keyword in exc.input['name'] for keyword in keywords):\n",
    "        filtered_exchanges.append(exc)\n",
    "\n",
    "# 보기 좋게 출력\n",
    "for exc in filtered_exchanges:\n",
    "    print(f\"{exc['amount']} {exc.input['unit']} '{exc.input['name']}' ({exc.input['location']})\")"
   ]
  },
  {
   "cell_type": "code",
   "execution_count": 9,
   "id": "9d92d082-d6ef-4212-8486-c1d6011481b5",
   "metadata": {},
   "outputs": [
    {
     "name": "stdout",
     "output_type": "stream",
     "text": [
      "Deleting: market for chromium, amount=0.017734, location=GLO\n",
      "Deleting: market for nickel, class 1, amount=0.070938, location=GLO\n",
      "Deleting: market for steel, low-alloyed, hot rolled, amount=0.547818, location=GLO\n"
     ]
    }
   ],
   "source": [
    "delete_targets = {\n",
    "    'market for chromium',\n",
    "    'market for nickel, class 1',\n",
    "    'market for steel, low-alloyed, hot rolled', \n",
    "}\n",
    "\n",
    "for exc in summerschool_kettle_process.edges():\n",
    "    input_name = exc.input['name']\n",
    "    \n",
    "    if input_name in delete_targets and \"waste\" not in input_name.lower():\n",
    "        print(f\"Deleting: {input_name}, amount={exc['amount']}, location={exc.input['location']}\")\n",
    "        exc.delete()"
   ]
  },
  {
   "cell_type": "code",
   "execution_count": 10,
   "id": "e7e1d883-da31-41b8-b8d1-a042f29c1de1",
   "metadata": {},
   "outputs": [
    {
     "name": "stdout",
     "output_type": "stream",
     "text": [
      "Remaining inputs: ['electric kettle production', 'market for brass', 'market for brass', 'market for compressed air, 800 kPa gauge', 'market for compressed air, 800 kPa gauge', 'market for copper, cathode', 'market group for electricity, low voltage', 'market for nickel smelter slag', 'market for nickel smelter slag', 'market for plastic processing factory', 'market for polyethylene, low density, granulate', 'market for polypropylene, granulate', 'market for polyvinylidenchloride, granulate', 'market for polyvinylidenchloride, granulate', 'market for scrap copper', 'market for scrap copper', 'market for scrap copper', 'market for scrap steel', 'market for scrap steel', 'market for scrap steel', 'market for silicone product', 'market for silicone product', 'market for textile, jute', 'market for waste polyethylene', 'market for waste polyethylene', 'market group for waste polyethylene', 'market for waste polyethylene', 'market for waste polyethylene', 'market for waste polyethylene', 'market for waste polyethylene', 'market for waste polyethylene', 'market for waste polypropylene', 'market for waste polypropylene', 'market for waste polypropylene', 'market group for waste polypropylene', 'market for waste polypropylene', 'market for waste polypropylene', 'market for waste polypropylene', 'market for waste polypropylene', 'market for waste polyvinylchloride', 'market for waste polyvinylchloride', 'market for waste polyvinylchloride', 'market for waste polyvinylchloride', 'market for waste polyvinylchloride', 'market for waste polyvinylchloride', 'market for waste polyvinylchloride', 'market group for waste polyvinylchloride', 'market for waste textile, soiled', 'market for waste textile, soiled', 'market for waste, from silicon wafer production']\n",
      "✅ Not found (deleted): market for nickel, class 1\n",
      "✅ Not found (deleted): market for steel, low-alloyed, hot rolled\n",
      "✅ Not found (deleted): market for chromium\n"
     ]
    }
   ],
   "source": [
    "# 남아 있는 모든 엣지들의 input 이름 출력\n",
    "remaining = [exc.input['name'] for exc in summerschool_kettle_process.edges()]\n",
    "print(\"Remaining inputs:\", remaining)\n",
    "\n",
    "# 혹은 삭제 대상이 하나라도 남아 있는지 체크\n",
    "for target in delete_targets:\n",
    "    if target in remaining:\n",
    "        print(f\"⚠️ Still found: {target}\")\n",
    "    else:\n",
    "        print(f\"✅ Not found (deleted): {target}\")\n"
   ]
  },
  {
   "cell_type": "code",
   "execution_count": null,
   "id": "776c640a-d374-4047-adbb-acb2b2f2042b",
   "metadata": {},
   "outputs": [],
   "source": []
  },
  {
   "cell_type": "code",
   "execution_count": null,
   "id": "1f02d0de-2958-4baa-8c3c-f0b868ccdfe7",
   "metadata": {},
   "outputs": [],
   "source": []
  },
  {
   "cell_type": "code",
   "execution_count": null,
   "id": "69d96dfb-56ad-4c5c-9d0b-89e9da19c791",
   "metadata": {},
   "outputs": [],
   "source": []
  },
  {
   "cell_type": "markdown",
   "id": "e919265a-9817-4806-937a-dcbc0e6de0e9",
   "metadata": {},
   "source": [
    "#### 2.3.1 Product and process definition"
   ]
  },
  {
   "cell_type": "code",
   "execution_count": null,
   "id": "cfe7e171-0bee-4c61-9313-0020b376b25a",
   "metadata": {},
   "outputs": [],
   "source": []
  },
  {
   "cell_type": "code",
   "execution_count": null,
   "id": "43989093-3ff4-4cb4-a59a-a817fbb2f0b4",
   "metadata": {},
   "outputs": [],
   "source": []
  },
  {
   "cell_type": "code",
   "execution_count": 38,
   "id": "dc0cdb55",
   "metadata": {},
   "outputs": [
    {
     "name": "stdout",
     "output_type": "stream",
     "text": [
      "Product node: 'market for electric kettle' (unit, GLO, None) (id=8581)\n"
     ]
    }
   ],
   "source": [
    "from bw2data import Database\n",
    "\n",
    "\n",
    "# 2) kettle process\n",
    "kettle = bd.get_node(\n",
    "    name=\"market for electric kettle\",\n",
    "    location=\"GLO\",\n",
    ")\n",
    "print(f\"Product node: {kettle} (id={kettle.id})\")"
   ]
  },
  {
   "cell_type": "code",
   "execution_count": 56,
   "id": "45213f60-ec96-4819-8c6f-388b606aefc0",
   "metadata": {},
   "outputs": [
    {
     "ename": "UnknownObject",
     "evalue": "",
     "output_type": "error",
     "traceback": [
      "\u001b[31m---------------------------------------------------------------------------\u001b[39m",
      "\u001b[31mUnknownObject\u001b[39m                             Traceback (most recent call last)",
      "\u001b[36mCell\u001b[39m\u001b[36m \u001b[39m\u001b[32mIn[56]\u001b[39m\u001b[32m, line 2\u001b[39m\n\u001b[32m      1\u001b[39m \u001b[38;5;66;03m# 3) kettle production \u001b[39;00m\n\u001b[32m----> \u001b[39m\u001b[32m2\u001b[39m kettle_production = \u001b[43mbd\u001b[49m\u001b[43m.\u001b[49m\u001b[43mget_node\u001b[49m\u001b[43m(\u001b[49m\n\u001b[32m      3\u001b[39m \u001b[43m    \u001b[49m\u001b[43mname\u001b[49m\u001b[43m=\u001b[49m\u001b[33;43m\"\u001b[39;49m\u001b[33;43msummerschool kettle prod\u001b[39;49m\u001b[33;43m\"\u001b[39;49m\u001b[43m,\u001b[49m\n\u001b[32m      4\u001b[39m \u001b[43m    \u001b[49m\u001b[43mlocation\u001b[49m\u001b[43m=\u001b[49m\u001b[33;43m\"\u001b[39;49m\u001b[33;43mRER\u001b[39;49m\u001b[33;43m\"\u001b[39;49m\u001b[43m,\u001b[49m\n\u001b[32m      5\u001b[39m \u001b[43m)\u001b[49m\n\u001b[32m      6\u001b[39m \u001b[38;5;28mprint\u001b[39m(\u001b[33mf\u001b[39m\u001b[33m\"\u001b[39m\u001b[33mProcess node: \u001b[39m\u001b[38;5;132;01m{\u001b[39;00mkettle_production\u001b[38;5;132;01m}\u001b[39;00m\u001b[33m (id=\u001b[39m\u001b[38;5;132;01m{\u001b[39;00mkettle_production.id\u001b[38;5;132;01m}\u001b[39;00m\u001b[33m)\u001b[39m\u001b[33m\"\u001b[39m)\n",
      "\u001b[36mFile \u001b[39m\u001b[32m/opt/tljh/user/envs/bw25/lib/python3.12/site-packages/bw2data/utils.py:384\u001b[39m, in \u001b[36mget_node\u001b[39m\u001b[34m(**kwargs)\u001b[39m\n\u001b[32m    382\u001b[39m     \u001b[38;5;28;01mraise\u001b[39;00m MultipleResults(\u001b[33m\"\u001b[39m\u001b[33mFound \u001b[39m\u001b[38;5;132;01m{}\u001b[39;00m\u001b[33m results for the given search\u001b[39m\u001b[33m\"\u001b[39m.format(\u001b[38;5;28mlen\u001b[39m(candidates)))\n\u001b[32m    383\u001b[39m \u001b[38;5;28;01melif\u001b[39;00m \u001b[38;5;129;01mnot\u001b[39;00m candidates:\n\u001b[32m--> \u001b[39m\u001b[32m384\u001b[39m     \u001b[38;5;28;01mraise\u001b[39;00m UnknownObject\n\u001b[32m    385\u001b[39m \u001b[38;5;28;01mreturn\u001b[39;00m candidates[\u001b[32m0\u001b[39m]\n",
      "\u001b[31mUnknownObject\u001b[39m: "
     ]
    }
   ],
   "source": [
    "\n",
    "# 3) kettle production \n",
    "kettle_production = bd.get_node(\n",
    "    name=\"summerschool kettle prod\",\n",
    "    location=\"RER\",\n",
    ")\n",
    "print(f\"Process node: {kettle_production} (id={kettle_production.id})\")\n"
   ]
  },
  {
   "cell_type": "markdown",
   "id": "1bc32524-56d3-49d7-9056-2bd09b0a12a7",
   "metadata": {},
   "source": [
    "#### 2.3.2 Technosphere flows kettle production"
   ]
  },
  {
   "cell_type": "code",
   "execution_count": null,
   "id": "79e81629",
   "metadata": {},
   "outputs": [],
   "source": [
    "\"\"\" Add all nodes which define the LCI\"\"\"\n",
    "\n",
    "#electricity = db.new_node(\n",
    "    #name='Electricity',\n",
    "    #unit='kilowatt hour',\n",
    "    #type=bd.labels.product_node_default,\n",
    "#)\n",
    "#electricity_production = db.new_node(\n",
    "    #name='electricity production',\n",
    "    #location='',\n",
    "    #type=bd.labels.process_node_default,\n",
    "#)\n",
    "\n",
    "#electricity.save()\n",
    "#electricity_production.save()\n",
    "\n",
    "#cp_production = db.new_node(\n",
    "    #code=\"cp-production\",\n",
    "    #name='copper production', #market for polypropylene, granulate\n",
    "    #location='DE',\n",
    "    #type=bd.labels.process_node_default,\n",
    "#)\n",
    "#cp = db.new_node(\n",
    "    #code=\"cp\",\n",
    "    #name='copper',\n",
    "    #unit=\"kilogram\",\n",
    "    #type=bd.labels.product_node_default,\n",
    "#)\n",
    "\n",
    "#cp_production.save()\n",
    "#cp.save()\n",
    "\n",
    "#cp_production.new_edge(\n",
    "   # amount=1,\n",
    "    #input=cp,\n",
    "    #type=bd.labels.production_edge_default,\n",
    "#).save()\n",
    "#electricity_production.new_edge(\n",
    "    #amount=1,\n",
    "    #input=electricity,\n",
    "    #type=bd.labels.production_edge_default,\n",
    "#).save()   \n",
    "\n",
    "materials = {\n",
    "    slt1: 0.546246,\n",
    "    slt2: 0,\n",
    "    #cp: 0.017046,\n",
    "    # ... other nodes and their corresponding values in kilograms\n",
    "}\n",
    "\n",
    "for material, amount in materials.items():\n",
    "    kettle_production.new_edge(\n",
    "        amount=amount,\n",
    "        type=bd.labels.consumption_edge_default,\n",
    "        input=material\n",
    "    ).save()\n",
    "\n",
    "#cp_production.new_edge(\n",
    "    #amount=0.01389,  \n",
    "    #uncertainty_type=5, \n",
    "    #minimum=0.012,  \n",
    "    #maximum=0.016,  \n",
    "    #type=bd.labels.consumption_edge_default,\n",
    "    #input=electricity,\n",
    "#).save()\n",
    "\n",
    "#slt_production.new_edge(\n",
    "    #amount=0.01389,  # 0.01389 kWh of electricity, in the papaer (MARCINKOWSKI, 2017)\n",
    "    #uncertainty_type=5, \n",
    "    #minimum=0.012, \n",
    "    #maximum=0.016,\n",
    "    #type=bd.labels.consumption_edge_default,\n",
    "    #input=electricity,\n",
    "#).save()"
   ]
  },
  {
   "cell_type": "markdown",
   "id": "b51fa963-a697-4ad7-b8c4-7b1d222ee3eb",
   "metadata": {},
   "source": [
    "#### 2.3.3 Environmental flows kettle production"
   ]
  },
  {
   "cell_type": "code",
   "execution_count": null,
   "id": "00f77034",
   "metadata": {},
   "outputs": [],
   "source": [
    "\"\"\" is this a direct environmental emission during the kettle production?\"\"\"\n",
    "\n",
    "#co2 = db.new_node(\n",
    "#   name=\"Carbon Dioxide\", \n",
    "#   context=('air',),\n",
    "#   tags={'CAS Number': '124-38-9'},\n",
    "#   unit='kilogram',\n",
    "#    type=bd.labels.biosphere_node_default,\n",
    "#)\n",
    "\n",
    "#co2.save()\n",
    "\n",
    "\"\"\" slt1_production not defined\"\"\"\n",
    "\n",
    "# slt1_production.new_edge(\n",
    "#     amount=4.62, \n",
    "#     uncertainty_type=5, \n",
    "#     minimum=4.158,\n",
    "#     maximum=5.082, \n",
    "#     type=bd.labels.biosphere_edge_default,\n",
    "#     input=co2,\n",
    "# ).save()\n",
    "\n",
    "# slt2_production.new_edge(\n",
    "#     amount=0, \n",
    "#     uncertainty_type=5, \n",
    "#     minimum=0,\n",
    "#     maximum=0, \n",
    "#     type=bd.labels.biosphere_edge_default,\n",
    "#     input=co2,\n",
    "# ).save()"
   ]
  },
  {
   "cell_type": "markdown",
   "id": "24987aa7-fa31-4452-9f68-208bb9c09159",
   "metadata": {},
   "source": [
    "## 3. Dynamic material flow analysis"
   ]
  },
  {
   "cell_type": "markdown",
   "id": "84143d17-5b20-42ac-8f10-d914f821b92c",
   "metadata": {},
   "source": [
    "### 3.1 Load and organise data"
   ]
  },
  {
   "cell_type": "code",
   "execution_count": null,
   "id": "259e4065",
   "metadata": {},
   "outputs": [],
   "source": [
    "# Load input data, inflow-driven model, Timeseries represents Irish purchases of 'hot water electronics' from 1980-2022\n",
    "stock_flow_timeseries = pd.read_excel(r'WEEE_generated_Tool_IE.xlsm', sheet_name='POM')\n",
    "\n",
    "# Extract the relevant rows and columns\n",
    "stock_flow_timeseries = stock_flow_timeseries.iloc[20,6:-9]\n",
    "stock_flow_timeseries = stock_flow_timeseries.to_frame()\n",
    "\n",
    "#Define timesteps that are covered in the dataset\n",
    "timesteps = range(1980,2023)\n",
    "\n",
    "#Define timeseries dataset including the associated yeart\n",
    "stock_flow_timeseries['year'] = timesteps\n",
    "stock_flow_timeseries = stock_flow_timeseries.iloc[1:,:]\n",
    "stock_flow_timeseries = stock_flow_timeseries.set_index('year')\n",
    "stock_flow_timeseries = stock_flow_timeseries.rename(columns={20:'inflow'})"
   ]
  },
  {
   "cell_type": "markdown",
   "id": "69932659-87e9-4a99-b0ba-f4ccc5b6c4ee",
   "metadata": {},
   "source": [
    "### 3.2 Define Lifetime curve"
   ]
  },
  {
   "cell_type": "code",
   "execution_count": null,
   "id": "8938b623",
   "metadata": {},
   "outputs": [],
   "source": [
    "#Define timesteps\n",
    "time_max = stock_flow_timeseries.shape[0]\n",
    "timesteps = np.arange(0, time_max)\n",
    "\n",
    "# Weibull distributed survival curve representative for the Netherlands, Belgium and France (no data available for Ireland)\n",
    "curve_shape = 1.73\n",
    "curve_scale = 7.8\n",
    "curve_surv = scipy.stats.weibull_min.sf(timesteps, curve_shape, 0, curve_scale)\n",
    "\n",
    "#Visualise the result\n",
    "plt.plot(curve_surv)\n",
    "\n",
    "#Define data as float to align with later usage\n",
    "curve_surv = curve_surv.astype(float)"
   ]
  },
  {
   "cell_type": "markdown",
   "id": "c9ac8714-5d9c-48cc-b56f-39a6c6a51881",
   "metadata": {},
   "source": [
    "### 3.3 Initiate normalized survival curve matrix"
   ]
  },
  {
   "cell_type": "code",
   "execution_count": null,
   "id": "9f8b3393",
   "metadata": {},
   "outputs": [],
   "source": [
    "# create survival curve matrix with placeholder zeros\n",
    "curve_surv_matrix = pd.DataFrame(0.0, index=timesteps, columns=timesteps)\n",
    "\n",
    "# populate the survival curve matrix with shifted curves, column by column using slices\n",
    "for time in timesteps:\n",
    "    curve_surv_matrix.loc[time:, time] = curve_surv[0:time_max - time]"
   ]
  },
  {
   "cell_type": "markdown",
   "id": "27535fca-de29-4f7b-8a75-128cb1f07e6e",
   "metadata": {},
   "source": [
    "### 3.4 Populate survival curve matrix with inflow values"
   ]
  },
  {
   "cell_type": "code",
   "execution_count": null,
   "id": "a945bb81",
   "metadata": {},
   "outputs": [],
   "source": [
    "# create survival matrix with placeholder zeros\n",
    "cohort_surv_matrix = pd.DataFrame(0.0, index=timesteps, columns=timesteps)\n",
    "\n",
    "# multiply the inflow times the shifted curves to get the cohorts' behavior over time\n",
    "\n",
    "for time in timesteps:\n",
    "    cohort_surv_matrix.loc[:, time] = curve_surv_matrix.loc[:, time] * stock_flow_timeseries['inflow'].iloc[time]\n",
    "\n",
    "# set row index to years instead of timesteps\n",
    "cohort_surv_matrix.index = stock_flow_timeseries.index\n",
    "\n"
   ]
  },
  {
   "cell_type": "markdown",
   "id": "c2c686e6-f075-404f-9170-b890205ac60b",
   "metadata": {},
   "source": [
    "### 3.5 Calculate stock, net addition to stock (NAS) and Outflow of products"
   ]
  },
  {
   "cell_type": "code",
   "execution_count": null,
   "id": "c69ebe0c-525a-4cc0-a804-559e594c1d4c",
   "metadata": {},
   "outputs": [],
   "source": [
    "# calculate flows & stocks using the cohort_surv_matrix\n",
    "stock_flow_timeseries['stock'] = cohort_surv_matrix.sum(axis=1)\n",
    "stock_flow_timeseries['nas'] = np.diff(stock_flow_timeseries['stock'], prepend=0)  # prepending 0 assumes no initial stock\n",
    "stock_flow_timeseries['outflow'] = stock_flow_timeseries['inflow'] - stock_flow_timeseries['nas']\n",
    "\n",
    "#Visualize calculated flows and stocks\n",
    "plt.plot(stock_flow_timeseries.index,stock_flow_timeseries['nas'], label = 'NAS')\n",
    "plt.plot(stock_flow_timeseries.index,stock_flow_timeseries['inflow'], label = 'Inflow')\n",
    "plt.plot(stock_flow_timeseries.index,stock_flow_timeseries['outflow'], label = 'outflow')\n",
    "plt.legend()\n",
    "plt.show()\n",
    "plt.close()\n",
    "plt.plot(stock_flow_timeseries.index,stock_flow_timeseries['stock'], label = 'stock')"
   ]
  },
  {
   "cell_type": "markdown",
   "id": "095f2cb4-49b4-46bb-93ec-449bd355c9ad",
   "metadata": {},
   "source": [
    "### 3.6 Calculate material content in Inflow, NAS, Outflow and stock"
   ]
  },
  {
   "cell_type": "code",
   "execution_count": null,
   "id": "aaa19590-d361-4e65-96e1-cd2223e79cda",
   "metadata": {},
   "outputs": [],
   "source": [
    "#Definde steel intensity as function of the inputs to the kettle process production\n",
    "steel_intensity = 0.3653 #Because significant digits matter\n",
    "\n",
    "#Calculate material content\n",
    "steel_stock_flow_timeseries = stock_flow_timeseries*steel_intensity\n",
    "\n",
    "# Visualize the comparison of the total inflow and the material contents in inflow\n",
    "plt.plot(stock_flow_timeseries.index,stock_flow_timeseries['outflow'], label = 'outflow')\n",
    "plt.plot(steel_stock_flow_timeseries.index,steel_stock_flow_timeseries['outflow'], label = 'steel outflow')\n",
    "plt.legend()\n",
    "plt.show()\n",
    "plt.close()"
   ]
  },
  {
   "cell_type": "markdown",
   "id": "16cb2342-eb81-4c2a-80b0-74a197190078",
   "metadata": {},
   "source": [
    "### 3.7 Calculate secondary material availablility"
   ]
  },
  {
   "cell_type": "code",
   "execution_count": null,
   "id": "6413ebe1",
   "metadata": {},
   "outputs": [],
   "source": [
    "# Define static efficiency of steel recycling\n",
    "steel_recycle_efficiency = 0.784444 #Because significant digits matter\n",
    "\n",
    "# Calculate the secondary material availability of steel\n",
    "secondary_steel_stock_flow_timeseries = steel_stock_flow_timeseries*steel_recycle_efficiency\n",
    "\n",
    "#Visualise the steel outflow vs. the secondary steel outflow\n",
    "plt.plot(steel_stock_flow_timeseries.index,steel_stock_flow_timeseries['outflow'], label = 'steel outflow')\n",
    "plt.plot(secondary_steel_stock_flow_timeseries.index,secondary_steel_stock_flow_timeseries['outflow'], label = 'recycled steel')\n",
    "plt.legend()\n",
    "plt.show()\n",
    "plt.close()\n",
    "\n",
    "#Calculate the relative share of secondary material in the inflow for steel\n",
    "secondary_steel_share = secondary_steel_stock_flow_timeseries['outflow']/steel_stock_flow_timeseries['inflow']\n"
   ]
  },
  {
   "cell_type": "markdown",
   "id": "b9595212-91a5-4b89-adef-14e175ebb00d",
   "metadata": {},
   "source": [
    "## 4. Integrate the dMFA results with the LCA"
   ]
  },
  {
   "cell_type": "markdown",
   "id": "6c7ed782-a2c5-4003-9396-3367a240ec2d",
   "metadata": {},
   "source": [
    "### 4.1 Update material composition in kettle year dependend kettle inventory"
   ]
  },
  {
   "cell_type": "code",
   "execution_count": null,
   "id": "11bb0c02-c0dd-47ab-9d9d-428b668bfe53",
   "metadata": {},
   "outputs": [],
   "source": []
  },
  {
   "cell_type": "code",
   "execution_count": null,
   "id": "24395015-69bb-4097-90ca-c9665d40a5d3",
   "metadata": {},
   "outputs": [],
   "source": [
    "def multiply_column_by_value(column, value):\n",
    "    new_column = column * value\n",
    "    return new_column.values\n",
    "\n",
    "def calculate_remaining_fraction_column (column):\n",
    "    new_column = 1 - column\n",
    "    return new_column.values\n",
    "    "
   ]
  },
  {
   "cell_type": "code",
   "execution_count": null,
   "id": "dcaab0ad-671f-4d78-986c-193966f03669",
   "metadata": {},
   "outputs": [],
   "source": [
    "\n"
   ]
  },
  {
   "cell_type": "code",
   "execution_count": null,
   "id": "258eb01e-51d1-445a-86b1-0af436cf9f69",
   "metadata": {},
   "outputs": [],
   "source": [
    "#Create df to store secondary steel values\n",
    "secondary_steel_df = pd.DataFrame()\n",
    "secondary_steel_df['years'] = stock_flow_timeseries.index\n",
    "\n",
    "#Calculate secondary and primary steel share\n",
    "secondary_steel_df['secondary steel share'] = secondary_steel_share\n",
    "secondary_steel_df['primary steel share'] = calculate_remaining_fraction_column(secondary_steel_df['secondary steel share'])\n",
    "\n",
    "#define original value steel\n",
    "steel_primary_mass = 0.546246\n",
    "\n",
    "#Call function to calculate new material composition and add to df\n",
    "secondary_steel_df['updated secondary steel share'] = multiply_column_by_value(secondary_steel_df['secondary steel share'],steel_primary_share)\n"
   ]
  },
  {
   "cell_type": "code",
   "execution_count": null,
   "id": "affda9c1-273d-45a5-9d20-86e889362c49",
   "metadata": {},
   "outputs": [],
   "source": []
  },
  {
   "cell_type": "markdown",
   "id": "dc28a942-8232-4134-880d-7d51bdaac9a6",
   "metadata": {},
   "source": [
    "### 4.2 Calculate year dependend LCIAs of kettle lifecycle"
   ]
  },
  {
   "cell_type": "code",
   "execution_count": null,
   "id": "e532db9b",
   "metadata": {},
   "outputs": [],
   "source": [
    "for value in secondary_steel_share_dict.items():\n",
    "    materials = update_material_composition(value)\n",
    "    primary_input = list(kettle_production.technosphere())[0]\n",
    "    secondary_input = list(kettle_production.technosphere())[1]\n",
    "    \n",
    "    primary_input['amount'] = materials['slt1']\n",
    "    primary_input.save()\n",
    "\n",
    "    secondary_input['amount'] = materials['slt2']\n",
    "    secondary_input.save()\n",
    "    \n",
    "\n",
    "    functional_unit, data_objs, _ = bd.prepare_lca_inputs({kettle: 1}, remapping=False)\n",
    "    lca = bc.LCA(demand=functional_unit, data_objs=data_objs)\n",
    "    lca.lci()\n"
   ]
  },
  {
   "cell_type": "code",
   "execution_count": null,
   "id": "2c5ad0d5-e6c8-40d2-b0b2-a0ea783e0eae",
   "metadata": {},
   "outputs": [],
   "source": []
  },
  {
   "cell_type": "code",
   "execution_count": null,
   "id": "512fb707-32d3-4ba1-815c-d7440d4cc3b3",
   "metadata": {},
   "outputs": [],
   "source": []
  },
  {
   "cell_type": "code",
   "execution_count": null,
   "id": "37ca53c8",
   "metadata": {},
   "outputs": [],
   "source": [
    "for value in np.array(secondary_steel_share):\n",
    "    materials = update_material_composition(value)\n",
    "    primary_input = list(kettle_production.technosphere())[0]\n",
    "    secondary_input = list(kettle_production.technosphere())[1]\n",
    "    \n",
    "    primary_input['amount'] = materials['slt1']\n",
    "    primary_input.save()\n",
    "\n",
    "    secondary_input['amount'] = materials['slt2']\n",
    "    secondary_input.save()\n",
    "    \n",
    "\n",
    "    functional_unit, data_objs, _ = bd.prepare_lca_inputs({kettle: 1}, remapping=False)\n",
    "    lca = bc.LCA(demand=functional_unit, data_objs=data_objs)\n",
    "    lca.lci()\n"
   ]
  },
  {
   "cell_type": "code",
   "execution_count": null,
   "id": "9afd7649-d665-4f32-9df5-d5537d5240bd",
   "metadata": {},
   "outputs": [],
   "source": [
    "    \n",
    "    primary_input['amount'] = materials['slt1']\n",
    "    primary_input.save()\n",
    "\n",
    "    secondary_input['amount'] = materials['slt2']\n",
    "    secondary_input.save()\n",
    "\n",
    "    functional_unit, data_objs, _ = bd.prepare_lca_inputs({kettle: 1}, remapping=False)\n",
    "    lca = bc.LCA(demand=functional_unit, data_objs=data_objs)\n",
    "    lca.lci()\n",
    "    lca.inventory[lca.dicts.biosphere[co2.id], :].sum()\n",
    "    lca.inventory[lca.dicts.biosphere[co2.id], :].sum()"
   ]
  },
  {
   "cell_type": "code",
   "execution_count": null,
   "id": "3069715b-e66f-4c4c-8fd4-9fa4e6a374e5",
   "metadata": {},
   "outputs": [],
   "source": [
    "secondary_steel_share_dict"
   ]
  },
  {
   "cell_type": "code",
   "execution_count": null,
   "id": "0f5a0c4b-41ea-44d6-bbb4-3fa978fd3fef",
   "metadata": {},
   "outputs": [],
   "source": [
    "my_edge['<some_key>'] = \"<some_new_value>\"\n",
    "my_edge.save()\n",
    "\n",
    "\n",
    "lca = bc.LCA(demand=functional_unit, data_objs=data_objs)\n",
    "lca.lci()\n",
    "lca.inventory[lca.dicts.biosphere[co2.id], :].sum()"
   ]
  },
  {
   "cell_type": "code",
   "execution_count": null,
   "id": "beab049d-b604-4beb-8966-10b4d064f0e6",
   "metadata": {},
   "outputs": [],
   "source": [
    "primary_input = list(kettle_production.technosphere())[0]\n",
    "primary_input"
   ]
  },
  {
   "cell_type": "code",
   "execution_count": null,
   "id": "50a20a76-fd77-4b4e-8958-c6f1f873fa3b",
   "metadata": {},
   "outputs": [],
   "source": [
    "secondary_input = list(kettle_production.technosphere())[1]\n",
    "secondary_input"
   ]
  },
  {
   "cell_type": "code",
   "execution_count": null,
   "id": "71ccfb14-f79e-4af7-8348-477011b05e52",
   "metadata": {},
   "outputs": [],
   "source": [
    "primary_input['amount'] = 0.5\n",
    "primary_input.save()\n",
    "primary_input"
   ]
  },
  {
   "cell_type": "code",
   "execution_count": null,
   "id": "6b0cec50-7be3-4eab-9956-3c4fe880b7e9",
   "metadata": {},
   "outputs": [],
   "source": [
    "secondary_input['amount'] = 0.1\n",
    "secondary_input.save()\n",
    "secondary_input"
   ]
  },
  {
   "cell_type": "code",
   "execution_count": null,
   "id": "44c5b9e7-a207-47ce-a7fd-cce0e6d081c8",
   "metadata": {},
   "outputs": [],
   "source": [
    "list(kettle_production.technosphere())"
   ]
  },
  {
   "cell_type": "markdown",
   "id": "fcd533a6-f3aa-4a00-a056-3a2fb4dee36a",
   "metadata": {},
   "source": [
    "### Old environmental calculations"
   ]
  },
  {
   "cell_type": "code",
   "execution_count": null,
   "id": "f6bb4e4d-c02d-4ef7-b600-5313747cfa15",
   "metadata": {},
   "outputs": [],
   "source": [
    "functional_unit, data_objs, _ = bd.prepare_lca_inputs({kettle: 1}, remapping=False)"
   ]
  },
  {
   "cell_type": "code",
   "execution_count": null,
   "id": "9a8eca18-95da-4828-8d1d-07dadeaa09dc",
   "metadata": {},
   "outputs": [],
   "source": []
  }
 ],
 "metadata": {
  "kernelspec": {
   "display_name": "Python [conda env:bw25]",
   "language": "python",
   "name": "conda-env-bw25-py"
  },
  "language_info": {
   "codemirror_mode": {
    "name": "ipython",
    "version": 3
   },
   "file_extension": ".py",
   "mimetype": "text/x-python",
   "name": "python",
   "nbconvert_exporter": "python",
   "pygments_lexer": "ipython3",
   "version": "3.12.11"
  }
 },
 "nbformat": 4,
 "nbformat_minor": 5
}
