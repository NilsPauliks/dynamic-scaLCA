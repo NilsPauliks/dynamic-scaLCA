{
 "cells": [
  {
   "cell_type": "code",
   "execution_count": 1,
   "id": "9cc26f31-5e55-4619-bfb0-539f308ffdef",
   "metadata": {},
   "outputs": [],
   "source": [
    "import bw2data as bd\n",
    "import bw2io as bi"
   ]
  },
  {
   "cell_type": "code",
   "execution_count": 2,
   "id": "bcff8a4d-064a-4f1c-aae1-ee96b85aa109",
   "metadata": {},
   "outputs": [
    {
     "name": "stdout",
     "output_type": "stream",
     "text": [
      "Restoring project backup archive - this could take a few minutes...\n",
      "Restored project: Linking dMFA & LCA\n",
      "\u001b[2m08:40:50+0000\u001b[0m [\u001b[32m\u001b[1minfo     \u001b[0m] \u001b[1mApplying automatic update: 4.0 database search directories FTS5\u001b[0m\n",
      "\u001b[2m08:40:50+0000\u001b[0m [\u001b[32m\u001b[1minfo     \u001b[0m] \u001b[1mReindexing database ecoinvent-3.10-biosphere\u001b[0m\n",
      "\u001b[2m08:40:50+0000\u001b[0m [\u001b[32m\u001b[1minfo     \u001b[0m] \u001b[1mReindexing database ecoinvent-3.10-cutoff\u001b[0m\n"
     ]
    }
   ],
   "source": [
    "PROJECT_NAME = \"Linking dMFA & LCA\"\n",
    "\n",
    "bi.restore_project_directory(\n",
    "    fp='/etc/data/ecoinvent-3.10-cutoff-bw25.tar.gz',\n",
    "    project_name=PROJECT_NAME,\n",
    "    overwrite_existing=True\n",
    ")\n",
    "bd.projects.set_current(PROJECT_NAME)\n",
    "\n",
    "db=bd.Database('ecoinvent-3.10-cutoff')\n",
    "\n",
    "# Define end-of-life treatment\n",
    "steel_recycling_RER = bd.get_node(name='steel production, electric, chromium steel 18/8', location = 'RER')\n",
    "steel_recycling_RER\n",
    "\n",
    "my_edge = list(steel_recycling_RER.edges())[14]\n",
    "my_edge.delete()\n",
    "\n",
    "#%% PRODUCT NODES\n",
    "scrap_stainless_steel = db.new_node(\n",
    "    code='scrap stainless steel',\n",
    "    name=\"scrap stainless steel\",\n",
    "    unit=\"kg\",\n",
    "    type=bd.labels.product_node_default,\n",
    ")\n",
    "#%% SAVING\n",
    "scrap_stainless_steel.save()\n",
    "\n",
    "#%% CONSUMPTION EDGES\n",
    "steel_recycling_RER.new_edge(\n",
    "    amount=0.551, \n",
    "    type=bd.labels.consumption_edge_default,\n",
    "    input=scrap_stainless_steel\n",
    ").save()"
   ]
  }
 ],
 "metadata": {
  "kernelspec": {
   "display_name": "Python [conda env:bw25]",
   "language": "python",
   "name": "conda-env-bw25-py"
  },
  "language_info": {
   "codemirror_mode": {
    "name": "ipython",
    "version": 3
   },
   "file_extension": ".py",
   "mimetype": "text/x-python",
   "name": "python",
   "nbconvert_exporter": "python",
   "pygments_lexer": "ipython3",
   "version": "3.12.11"
  }
 },
 "nbformat": 4,
 "nbformat_minor": 5
}
