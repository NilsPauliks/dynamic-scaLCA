{
 "cells": [
  {
   "cell_type": "code",
   "execution_count": 1,
   "id": "9cc26f31-5e55-4619-bfb0-539f308ffdef",
   "metadata": {},
   "outputs": [],
   "source": [
    "import bw2data as bd\n",
    "import bw2io as bi"
   ]
  },
  {
   "cell_type": "code",
   "execution_count": 2,
   "id": "bcff8a4d-064a-4f1c-aae1-ee96b85aa109",
   "metadata": {},
   "outputs": [
    {
     "name": "stdout",
     "output_type": "stream",
     "text": [
      "Restoring project backup archive - this could take a few minutes...\n",
      "Restored project: Linking dMFA & LCA\n",
      "\u001b[2m11:48:59+0000\u001b[0m [\u001b[32m\u001b[1minfo     \u001b[0m] \u001b[1mApplying automatic update: 4.0 database search directories FTS5\u001b[0m\n",
      "\u001b[2m11:48:59+0000\u001b[0m [\u001b[32m\u001b[1minfo     \u001b[0m] \u001b[1mReindexing database ecoinvent-3.10-biosphere\u001b[0m\n",
      "\u001b[2m11:48:59+0000\u001b[0m [\u001b[32m\u001b[1minfo     \u001b[0m] \u001b[1mReindexing database ecoinvent-3.10-cutoff\u001b[0m\n"
     ]
    }
   ],
   "source": [
    "PROJECT_NAME = \"Linking dMFA & LCA\"\n",
    "\n",
    "bi.restore_project_directory(\n",
    "    fp='/etc/data/ecoinvent-3.10-cutoff-bw25.tar.gz',\n",
    "    project_name=PROJECT_NAME,\n",
    "    overwrite_existing=True\n",
    ")\n",
    "bd.projects.set_current(PROJECT_NAME)\n",
    "\n",
    "db=bd.Database('ecoinvent-3.10-cutoff')\n",
    "\n",
    "# selecting ecoinvent processes\n",
    "primary_steel_production = bd.get_node(\n",
    "    name='steel production, electric, chromium steel 18/8',\n",
    "    location = 'RER').copy(name = 'primary steel production', database=db.name)\n",
    "\n",
    "secondary_steel_production = bd.get_node(\n",
    "    name='steel production, electric, chromium steel 18/8',\n",
    "    location = 'RER').copy(name = 'secondary steel production', database=db.name)\n",
    "\n",
    "ecoinvent_steel_scrap = bd.get_node(name='market for scrap steel', location = 'Europe without Switzerland')\n",
    "\n",
    "ecoinvent_iron_ore = bd.get_node(name='market for iron ore concentrate', location = 'GLO')\n",
    "\n",
    "# electric arc furnace is loaded with 60% scrap and 40% virgin raw materials"
   ]
  },
  {
   "cell_type": "code",
   "execution_count": 3,
   "id": "6f2e699e-02b5-4095-a7f8-c3fbce35f146",
   "metadata": {},
   "outputs": [],
   "source": [
    "### creating new output product for recycling process\n",
    "\n",
    "primary_steel = db.new_node(\n",
    "    name='primary steel',\n",
    "    code = 'primary steel',\n",
    "    unit=\"kilogram\",\n",
    "    location = \"RER\",\n",
    "    type=bd.labels.product_node_default,\n",
    ")\n",
    "primary_steel.save()\n",
    "\n",
    "secondary_steel = db.new_node(\n",
    "    name='secondary steel',\n",
    "    code = 'secondary steel',\n",
    "    unit=\"kilogram\",\n",
    "    location = \"RER\",\n",
    "    type=bd.labels.product_node_default,\n",
    ")\n",
    "secondary_steel.save()"
   ]
  },
  {
   "cell_type": "code",
   "execution_count": 4,
   "id": "0c1ebc79-f20d-4c40-b0ce-d10526dc322f",
   "metadata": {},
   "outputs": [
    {
     "name": "stdout",
     "output_type": "stream",
     "text": [
      "[Exchange: 1 kilogram 'primary steel' (kilogram, RER, None) to 'primary steel production' (kilogram, RER, None)>]\n"
     ]
    },
    {
     "data": {
      "text/plain": [
       "[Exchange: 1 kilogram 'secondary steel' (kilogram, RER, None) to 'secondary steel production' (kilogram, RER, None)>]"
      ]
     },
     "execution_count": 4,
     "metadata": {},
     "output_type": "execute_result"
    }
   ],
   "source": [
    "#deleting old output in primary production\n",
    "for exc in primary_steel_production.production():\n",
    "    exc.delete()\n",
    "\n",
    "#adding the secondary steel output\n",
    "primary_steel_production.new_edge(\n",
    "    input=primary_steel,\n",
    "    amount=1,\n",
    "    type=bd.labels.production_edge_default\n",
    ").save()\n",
    "\n",
    "#checking that the output was replaced\n",
    "print(list(primary_steel_production.production()))\n",
    "\n",
    "#deleting old output in secondary production\n",
    "for exc in secondary_steel_production.production():\n",
    "    exc.delete()\n",
    "\n",
    "#adding the secondary steel output\n",
    "secondary_steel_production.new_edge(\n",
    "    input=secondary_steel,\n",
    "    amount=1,\n",
    "    type=bd.labels.production_edge_default\n",
    ").save()\n",
    "\n",
    "#checking that the output was replaced\n",
    "list(secondary_steel_production.production())"
   ]
  },
  {
   "cell_type": "code",
   "execution_count": 5,
   "id": "4d1132a5-2b6b-4208-ac10-e5d4906fa58b",
   "metadata": {},
   "outputs": [],
   "source": [
    "#changing material inputs in primary steel production (replace iron scrap with iron ore)\n",
    "iron_scrap_input_primary = list(primary_steel_production.edges())[13]\n",
    "iron_ore_input_amount = iron_scrap_input_primary['amount']\n",
    "iron_scrap_input_primary.delete() #new inflow is added in cell below\n",
    "iron_scrap_input_primary.save()\n",
    "\n",
    "#changing material inputs in secondary steel production (iron, nickel & chromium inflows at 40%)\n",
    "chromium_input = list(secondary_steel_production.edges())[9]\n",
    "nickel_input = list(secondary_steel_production.edges())[10]\n",
    "iron_scrap_input_secondary = list(secondary_steel_production.edges())[13]\n",
    "\n",
    "steel_scrap_amount = (nickel_input['amount'] + chromium_input['amount'] + iron_scrap_input_secondary['amount']) * 0.6\n",
    "\n",
    "nickel_input['amount'] = nickel_input['amount'] * 0.4\n",
    "chromium_input['amount'] = chromium_input['amount'] * 0.4\n",
    "iron_scrap_input_secondary['amount'] = iron_scrap_input_secondary['amount'] * 0.4\n",
    "\n",
    "chromium_input.save()\n",
    "nickel_input.save()\n",
    "iron_scrap_input_secondary.save()"
   ]
  },
  {
   "cell_type": "code",
   "execution_count": 6,
   "id": "caaf8b0a-b82d-4704-bbcd-dac9c45631fc",
   "metadata": {},
   "outputs": [],
   "source": [
    "#adding iron ore as inflow for primary steel production\n",
    "primary_steel_production.new_edge(\n",
    "    amount = steel_scrap_amount, #calculated in cell above\n",
    "    type=bd.labels.consumption_edge_default,\n",
    "    input=ecoinvent_iron_ore\n",
    ").save()\n",
    "\n",
    "#adding 60% of raw material inputs as scrap metal for secondary steel production\n",
    "secondary_steel_production.new_edge(\n",
    "    amount = steel_scrap_amount, #calculated in cell above\n",
    "    type=bd.labels.consumption_edge_default,\n",
    "    input=ecoinvent_steel_scrap\n",
    ").save()"
   ]
  },
  {
   "cell_type": "code",
   "execution_count": 8,
   "id": "10da2b69-85c8-40ca-add2-34c9d4eacf85",
   "metadata": {},
   "outputs": [
    {
     "data": {
      "text/plain": [
       "[Exchange: 0.004 kilogram 'market for anode, for metal electrolysis' (kilogram, GLO, None) to 'primary steel production' (kilogram, RER, None)>,\n",
       " Exchange: 0.032 kilogram 'market for argon, liquid' (kilogram, RER, None) to 'primary steel production' (kilogram, RER, None)>,\n",
       " Exchange: 4e-11 unit 'market for electric arc furnace converter' (unit, GLO, None) to 'primary steel production' (kilogram, RER, None)>,\n",
       " Exchange: -2.8657850546607665e-06 kilogram 'market for electric arc furnace dust' (kilogram, CH, None) to 'primary steel production' (kilogram, RER, None)>,\n",
       " Exchange: -0.019124534214945338 kilogram 'market for electric arc furnace dust' (kilogram, Europe without Switzerland, None) to 'primary steel production' (kilogram, RER, None)>,\n",
       " Exchange: -0.01924 kilogram 'market for electric arc furnace secondary metallurgy slag' (kilogram, RER, None) to 'primary steel production' (kilogram, RER, None)>,\n",
       " Exchange: -0.11089719292129314 kilogram 'market for electric arc furnace slag' (kilogram, Europe without Switzerland, None) to 'primary steel production' (kilogram, RER, None)>,\n",
       " Exchange: -0.03496880707870686 kilogram 'market for electric arc furnace slag' (kilogram, CH, None) to 'primary steel production' (kilogram, RER, None)>,\n",
       " Exchange: 0.625 kilowatt hour 'market group for electricity, medium voltage' (kilowatt hour, RER, None) to 'primary steel production' (kilogram, RER, None)>,\n",
       " Exchange: 0.26471 kilogram 'market for ferrochromium, high-carbon, 68% Cr' (kilogram, GLO, None) to 'primary steel production' (kilogram, RER, None)>,\n",
       " Exchange: 0.32 kilogram 'market for ferronickel' (kilogram, GLO, None) to 'primary steel production' (kilogram, RER, None)>,\n",
       " Exchange: 0.00916515138991168 kilogram 'market for hard coal' (kilogram, Europe, without Russia and Türkiye, None) to 'primary steel production' (kilogram, RER, None)>,\n",
       " Exchange: -0.00678233 kilogram 'market for inert waste, for final disposal' (kilogram, CH, None) to 'primary steel production' (kilogram, RER, None)>,\n",
       " Exchange: 5.181078920419586e-05 cubic meter 'market for natural gas, high pressure' (cubic meter, CH, None) to 'primary steel production' (kilogram, RER, None)>,\n",
       " Exchange: 0.007430737810593155 cubic meter 'market group for natural gas, high pressure' (cubic meter, Europe without Switzerland, None) to 'primary steel production' (kilogram, RER, None)>,\n",
       " Exchange: 0.00359722693195745 kilogram 'market for nitrogen, liquid' (kilogram, RER, None) to 'primary steel production' (kilogram, RER, None)>,\n",
       " Exchange: 0.036 kilogram 'market for oxygen, liquid' (kilogram, RER, None) to 'primary steel production' (kilogram, RER, None)>,\n",
       " Exchange: 0.0591607978309962 kilogram 'market for quicklime, in pieces, loose' (kilogram, CH, None) to 'primary steel production' (kilogram, RER, None)>,\n",
       " Exchange: 0.0154919333848297 kilogram 'market for refractory, basic, packed' (kilogram, GLO, None) to 'primary steel production' (kilogram, RER, None)>,\n",
       " Exchange: 0.6812999999999999 kilogram 'market for iron ore concentrate' (kilogram, GLO, None) to 'primary steel production' (kilogram, RER, None)>]"
      ]
     },
     "execution_count": 8,
     "metadata": {},
     "output_type": "execute_result"
    }
   ],
   "source": [
    "list(primary_steel_production.technosphere())"
   ]
  },
  {
   "cell_type": "code",
   "execution_count": null,
   "id": "4b98bb22-e5a3-4424-94cd-9bac0d270ae8",
   "metadata": {},
   "outputs": [],
   "source": []
  }
 ],
 "metadata": {
  "kernelspec": {
   "display_name": "Python [conda env:bw25]",
   "language": "python",
   "name": "conda-env-bw25-py"
  },
  "language_info": {
   "codemirror_mode": {
    "name": "ipython",
    "version": 3
   },
   "file_extension": ".py",
   "mimetype": "text/x-python",
   "name": "python",
   "nbconvert_exporter": "python",
   "pygments_lexer": "ipython3",
   "version": "3.12.11"
  }
 },
 "nbformat": 4,
 "nbformat_minor": 5
}
